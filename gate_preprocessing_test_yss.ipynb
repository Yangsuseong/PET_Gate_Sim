{
 "cells": [
  {
   "cell_type": "markdown",
   "metadata": {},
   "source": [
    "# GATE SIMULATION\n",
    "###                              data preprocessing\n",
    "                                                 made by Yangsuseong and Hongyonggi\n",
    "                                                 \n",
    "변수 선언 및 실행 함수는 아래 있음."
   ]
  },
  {
   "cell_type": "code",
   "execution_count": 1,
   "metadata": {},
   "outputs": [],
   "source": [
    "import os, glob, csv, codecs\n",
    "import shutil\n",
    "import re\n",
    "import itertools\n",
    "import math\n",
    "import numpy as np\n",
    "import matplotlib.pyplot as plt\n",
    "import tqdm\n",
    "import pprint\n",
    "from collections import OrderedDict"
   ]
  },
  {
   "cell_type": "code",
   "execution_count": 2,
   "metadata": {},
   "outputs": [],
   "source": [
    "# 리스트 청크 함수 (리스트, 원하는 길이)\n",
    "# 이거 하고나면 차원이 하나가 더 생겨서 언패킹함수를 사용하여 차원축소를 해야함\n",
    "# dat_list.append(list(chunks(dat_list_pre, 3)))\n",
    "def chunks(l, n):\n",
    "    n = max(1, n)\n",
    "    return (l[i:i+n] for i in range(0, len(l), n))"
   ]
  },
  {
   "cell_type": "code",
   "execution_count": 3,
   "metadata": {},
   "outputs": [],
   "source": [
    "# 차원 축소 함수\n",
    "# dat_list = list(itertools.chain(*dat_list))\n",
    "def chain(*iterables):\n",
    "    # chain('ABC', 'DEF') --> ['A', 'B', 'C', 'D', 'E', 'F']\n",
    "    for it in iterables:\n",
    "        for element in it:\n",
    "            yield element\n"
   ]
  },
  {
   "cell_type": "markdown",
   "metadata": {},
   "source": [
    "#실제 데이터를 알맞는 form으로 바꾸는 함수\n",
    "def make_form(dat_list_xyz, dat_len):\n",
    "    for i in range(dat_len):\n",
    "        for j in range(2):\n",
    "            for k in range(3):\n",
    "                if(str(dat_list_xyz[i][j][k][-4:]) == \"e-06\"):\n",
    "                    dat_list_xyz[i][j][k] = str(float(dat_list_xyz[i][j][k][:-4]) * (10**-6) * 0.1)\n",
    "                    #print(\"e-06 complete\")\n",
    "                if(str(dat_list_xyz[i][j][k][-4:]) == \"e-05\"):\n",
    "                    dat_list_xyz[i][j][k] = str(float(dat_list_xyz[i][j][k][:-4]) * (10**-5)* 0.1)\n",
    "                    #print(\"e-05 complete\")\n",
    "                if(str(dat_list_xyz[i][j][k][-4:]) == \"e-04\"):\n",
    "                    dat_list_xyz[i][j][k] = str(float(dat_list_xyz[i][j][k][:-4]) * (10**-4)* 0.1)\n",
    "                    #print(\"e-04 complete\")\n",
    "                if(str(dat_list_xyz[i][j][k][-4:]) == \"e-03\"):\n",
    "                    dat_list_xyz[i][j][k] = str(float(dat_list_xyz[i][j][k][:-4]) * (10**-3)* 0.1)\n",
    "                    #print(\"e-03 complete\")\n",
    "                if(str(dat_list_xyz[i][j][k][-4:]) == \"e-02\"):\n",
    "                    dat_list_xyz[i][j][k] = str(float(dat_list_xyz[i][j][k][:-4]) * (10**-2)* 0.1)\n",
    "                    #print(\"e-02 complete\")\n",
    "                if(str(dat_list_xyz[i][j][k][-4:]) == \"e-01\"):\n",
    "                    dat_list_xyz[i][j][k] = str(float(dat_list_xyz[i][j][k][:-4]) * (10**-1)* 0.1)\n",
    "                    #print(\"e-01 complete\")\n",
    "                if(str(dat_list_xyz[i][j][k][-4:]) == \"e+00\"):\n",
    "                    dat_list_xyz[i][j][k] = str(float(dat_list_xyz[i][j][k][:-4])* 0.1)\n",
    "                    #print(\"e+00 complete\")\n",
    "                if(str(dat_list_xyz[i][j][k][-4:]) == \"e+01\"):\n",
    "                    dat_list_xyz[i][j][k] = str(float(dat_list_xyz[i][j][k][:-4]) * (10)* 0.1)\n",
    "                    #print(\"e+01 complete\")\n",
    "                if(str(dat_list_xyz[i][j][k][-4:]) == \"e+02\"):\n",
    "                    dat_list_xyz[i][j][k] = str(float(dat_list_xyz[i][j][k][:-4]) * (10**2)* 0.1)\n",
    "                    #print(\"e+02 complete\")\n",
    "                if(str(dat_list_xyz[i][j][k][-4:]) == \"e+03\"):\n",
    "                    dat_list_xyz[i][j][k] = str(float(dat_list_xyz[i][j][k][:-4]) * (10**3)* 0.1)\n",
    "                    #print(\"e+03 complete\")\n",
    "    #print(\"Complete\") \n",
    "    #print(\"=================\")\n",
    "    return dat_list_xyz"
   ]
  },
  {
   "cell_type": "code",
   "execution_count": 4,
   "metadata": {},
   "outputs": [],
   "source": [
    "#실제 데이터를 알맞는 form으로 바꾸는 함수\n",
    "def make_form(dat_list_xyz, dat_len):\n",
    "    for i in range(dat_len):\n",
    "        for j in range(2):\n",
    "            for k in range(3):\n",
    "                for l in range(20):\n",
    "                    if(l < 10):\n",
    "                        if(str(dat_list_xyz[i][j][k][-4:]) == (\"e+0\"+str(l))):\n",
    "                            dat_list_xyz[i][j][k] = str(float(dat_list_xyz[i][j][k][:-4]) * (10 ** int(l)) * 0.1)\n",
    "                            #print(dat_list_xyz[i][j][k])\n",
    "                        if(str(dat_list_xyz[i][j][k][-4:]) == (\"e-0\"+str(l))):\n",
    "                            dat_list_xyz[i][j][k] = str(float(dat_list_xyz[i][j][k][:-4]) * (10 ** -int(l)) * 0.1)\n",
    "                    elif(l >= 10):\n",
    "                        if(str(dat_list_xyz[i][j][k][-4:]) == (\"e+\"+str(l))):\n",
    "                            dat_list_xyz[i][j][k] = str(float(dat_list_xyz[i][j][k][:-4]) * (10 ** int(l)) * 0.1)\n",
    "                        if(str(dat_list_xyz[i][j][k][-4:]) == (\"e-\"+str(l))):\n",
    "                            dat_list_xyz[i][j][k] = str(float(dat_list_xyz[i][j][k][:-4]) * (10 ** -int(l)) * 0.1)\n",
    "                        \n",
    "                \n",
    "               \n",
    "    return dat_list_xyz"
   ]
  },
  {
   "cell_type": "code",
   "execution_count": 5,
   "metadata": {},
   "outputs": [],
   "source": [
    "# 각 크리스탈의 중심값을 얻어내기위한 함수 (3x3)\n",
    "# find_xyz_center(디텍터 갯수, 크리스탈의 x축 갯수, 크리스탈의 y축 갯수, 크리스탈의 z축 갯수, 원점으로부터의 거리, 크리스탈의 x축 길이, 크리스탈의 y축 길이, 크리스탈의 z축 길이)\n",
    "def YSS_find_xyz_center(detector_amount, crystal_x_amount, crystal_y_amount, crystal_z_amount, r, x_len, y_len, z_len):\n",
    "    \n",
    "    r = r-(x_len/2)\n",
    "    \n",
    "    \n",
    "    result = []\n",
    "    for i in range(int(detector_amount)):\n",
    "        detector = []\n",
    "        crystal = []\n",
    "        crystal_z_num = int((int(crystal_z_amount)/2))\n",
    "        for j in range(int(crystal_z_amount)):\n",
    "            \n",
    "            crystal_y_num = int((int(crystal_y_amount)/2))\n",
    "            for k in range(int(crystal_y_amount)):\n",
    "                crystal.append([r + (x_len/2), (y_len * crystal_y_num), (z_len * -crystal_z_num)])\n",
    "                crystal_y_num = crystal_y_num - 1\n",
    "            crystal_z_num = crystal_z_num - 1\n",
    "        detector.append(crystal)\n",
    "        result.append(detector)\n",
    "    result = list(itertools.chain(*result))\n",
    "    detector_rot = result\n",
    "    result = []\n",
    "    \n",
    "    detector_num = 0\n",
    "    for i in range(int(detector_amount)):\n",
    "        det_rot = []\n",
    "        for j in range(len(detector_rot[i])):\n",
    "            det_rot.append([format((detector_rot[i][j][0]*math.cos(((360/detector_amount)*detector_num)*math.pi/180)) - (detector_rot[i][j][1]*math.sin(((360/detector_amount)*detector_num)*math.pi/180)),\".3f\"),\\\n",
    "                           format((detector_rot[i][j][0]*math.sin(((360/detector_amount)*detector_num)*math.pi/180)) + (detector_rot[i][j][1]*math.cos(((360/detector_amount)*detector_num)*math.pi/180)),\".3f\"),\\\n",
    "                           format(detector_rot[i][j][2],\".3f\")])\n",
    "        detector_num += 1\n",
    "        result.append(det_rot)\n",
    "    \n",
    "            \n",
    "    \n",
    "    return result"
   ]
  },
  {
   "cell_type": "code",
   "execution_count": 6,
   "metadata": {},
   "outputs": [],
   "source": [
    "# 각 디텍터의 중심값을 받아와 크리스탈의 모서리의 좌표를 구하는 함수\n",
    "def find_crystal_edge(x, y, z, x_len, y_len, z_len):\n",
    "    x = float(x)\n",
    "    y = float(y)\n",
    "    z = float(z)\n",
    "    x_len = float(x_len)\n",
    "    y_len = float(y_len)\n",
    "    z_len = float(z_len)\n",
    "    edge_a1 = [x-(x_len/2), y+(y_len/2), z-(z_len/2)]\n",
    "    edge_b1 = [x-(x_len/2), y+(y_len/2), z+(z_len/2)]\n",
    "    edge_c1 = [x-(x_len/2), y-(y_len/2), z-(z_len/2)]\n",
    "    edge_d1 = [x-(x_len/2), y-(y_len/2), z+(z_len/2)]\n",
    "    edge_a2 = [x+(x_len/2), y+(y_len/2), z-(z_len/2)]\n",
    "    edge_b2 = [x+(x_len/2), y+(y_len/2), z+(z_len/2)]\n",
    "    edge_c2 = [x+(x_len/2), y-(y_len/2), z-(z_len/2)]\n",
    "    edge_d2 = [x+(x_len/2), y-(y_len/2), z+(z_len/2)]\n",
    "    \n",
    "    \n",
    "    crystal_edge = [edge_a1, edge_b1, edge_c1, edge_d1, edge_a2, edge_b2, edge_c2, edge_d2]\n",
    "    #print(crystal_edge)\n",
    "    return crystal_edge"
   ]
  },
  {
   "cell_type": "code",
   "execution_count": 7,
   "metadata": {},
   "outputs": [],
   "source": [
    "def rotate_edge(crystal_edge, detector_num):\n",
    "    rotate_crystal_edge_1 = []\n",
    "    rad = (math.pi/180) \n",
    "    for i in range(detector_num):\n",
    "        for j in range(len(crystal_edge)):\n",
    "            for k in range(len(crystal_edge[j])):\n",
    "                rotate_crystal_edge_1.append([(crystal_edge[j][k][0]*math.cos((((360/detector_num))*i)*rad)) - (crystal_edge[j][k][1]*math.sin((((360/detector_num))*i)*rad)),\\\n",
    "                                               (crystal_edge[j][k][0]*math.sin((((360/detector_num))*i)*rad)) + (crystal_edge[j][k][1]*math.cos((((360/detector_num))*i)*rad)),\\\n",
    "                                                crystal_edge[j][k][2]])\n",
    "            \n",
    "    return rotate_crystal_edge_1"
   ]
  },
  {
   "cell_type": "code",
   "execution_count": 8,
   "metadata": {},
   "outputs": [],
   "source": [
    "def rotate_edge_yss(x, y, z, angle):\n",
    "    rotate_crystal_edge_1 = []\n",
    "    x = float(x)\n",
    "    y = float(y)\n",
    "    z = float(z)\n",
    "    rad = (math.pi/180)\n",
    "    rotate_crystal_edge_1.append([(x*math.cos(angle * rad)) - (y*math.sin(angle * rad)),\\\n",
    "                               (x*math.sin(angle * rad)) + (y*math.cos(angle * rad)),\\\n",
    "                                z])\n",
    "    return rotate_crystal_edge_1\n"
   ]
  },
  {
   "cell_type": "code",
   "execution_count": 192,
   "metadata": {},
   "outputs": [],
   "source": [
    "# 데이터 범위를 디텍터 갯수에 맞게 미리 나누어내는 방법\n",
    "# find_detector(원본 데이터, 모서리값, 디텍터 갯수)\n",
    "\n",
    "\n",
    "def find_detector_angle(dat_list, detector_head_num):\n",
    "    # 각 디텍터 번호마다 각도를 찾아서 dat_list 의 값들도 각도를 찾아 가장 가까운 각도로 변경시켜 디텍터 번호를 매긴다.\n",
    "    dat_xyz_ang = []\n",
    "    global detector_ang_range\n",
    "    global detector_center_ang\n",
    "    detector_ang_range = []\n",
    "    detector_center_ang = []\n",
    "    angle = 360/detector_head_num\n",
    "    a = 0\n",
    "    \n",
    "    for i in range(detector_head_num):\n",
    "        # detector_center_ang = 디텍터 헤드 중심 각도\n",
    "        detector_ang_range.append([angle*i - angle/2, angle*i + angle/2])\n",
    "        # detector_ang_range = [중심 각도 - 헤드 사이 각도/2 , 중심 각도 - 헤드 사이 각도/2 ]\n",
    "        detector_center_ang.append(angle*i)\n",
    "    \n",
    "    for i in  tqdm.tqdm(range(len(dat_list))):\n",
    "        for j in range(len(dat_list[i])):\n",
    "            # 사분면에 따라 식이 달라진다.\n",
    "            # 1 사분면 ( x>0 , y>0 )\n",
    "            if(float(dat_list[i][j][0])>=0 and float(dat_list[i][j][1])>0):\n",
    "                #print('1 사분면')\n",
    "                #print(dat_list[i][j][0],float(dat_list[i][j][1]))\n",
    "                #print(math.atan(float(dat_list[i][j][1])/float(dat_list[i][j][0])) * (180/math.pi))\n",
    "                dat_xyz_ang.append(math.atan(float(dat_list[i][j][1])/float(dat_list[i][j][0])) * (180/math.pi))\n",
    "                      \n",
    "                      \n",
    "            # 2 사분면 ( x<0 , y>0 )\n",
    "            elif(float(dat_list[i][j][0])<=0 and float(dat_list[i][j][1])>0):\n",
    "                #print('2 사분면')\n",
    "                #print(dat_list[i][j][0],float(dat_list[i][j][1]))\n",
    "                #print(math.atan(float(dat_list[i][j][1])/float(dat_list[i][j][0])) * (180/math.pi))\n",
    "                dat_xyz_ang.append(180 + math.atan(float(dat_list[i][j][1])/float(dat_list[i][j][0])) * (180/math.pi))\n",
    "            \n",
    "            # 3 사분면 ( x<0, y<0 )\n",
    "            elif(float(dat_list[i][j][0])<=0 and float(dat_list[i][j][1])<0):\n",
    "                #print('3 사분면')\n",
    "                #print(dat_list[i][j][0],float(dat_list[i][j][1]))\n",
    "                #print(math.atan(float(dat_list[i][j][1])/float(dat_list[i][j][0])) * (180/math.pi))\n",
    "                dat_xyz_ang.append(180 + math.atan(float(dat_list[i][j][1])/float(dat_list[i][j][0])) * (180/math.pi))\n",
    "            \n",
    "            # 4 사분면 ( x>0, y<0 )\n",
    "            elif(float(dat_list[i][j][0])>=0 and float(dat_list[i][j][1])<0):\n",
    "                #print('4 사분면')\n",
    "                #print(dat_list[i][j][0],float(dat_list[i][j][1]))\n",
    "                #print(math.atan(float(dat_list[i][j][1])/float(dat_list[i][j][0])) * (180/math.pi))\n",
    "                dat_xyz_ang.append(360 + math.atan(float(dat_list[i][j][1])/float(dat_list[i][j][0])) * (180/math.pi))\n",
    "                \n",
    "            else:\n",
    "                a += 1\n",
    "                \n",
    "    print(\"각도를 구할 때 잘못된 데이터 수 : \", a)\n",
    "    print(\"각도 구하기 완료\")\n",
    "    print(\"==================\")\n",
    "    return dat_xyz_ang"
   ]
  },
  {
   "cell_type": "code",
   "execution_count": 221,
   "metadata": {},
   "outputs": [
    {
     "data": {
      "text/plain": [
       "[[-1.40625, 1.40625],\n",
       " [1.40625, 4.21875],\n",
       " [4.21875, 7.03125],\n",
       " [7.03125, 9.84375],\n",
       " [9.84375, 12.65625],\n",
       " [12.65625, 15.46875],\n",
       " [15.46875, 18.28125],\n",
       " [18.28125, 21.09375],\n",
       " [21.09375, 23.90625],\n",
       " [23.90625, 26.71875],\n",
       " [26.71875, 29.53125],\n",
       " [29.53125, 32.34375],\n",
       " [32.34375, 35.15625],\n",
       " [35.15625, 37.96875],\n",
       " [37.96875, 40.78125],\n",
       " [40.78125, 43.59375],\n",
       " [43.59375, 46.40625],\n",
       " [46.40625, 49.21875],\n",
       " [49.21875, 52.03125],\n",
       " [52.03125, 54.84375],\n",
       " [54.84375, 57.65625],\n",
       " [57.65625, 60.46875],\n",
       " [60.46875, 63.28125],\n",
       " [63.28125, 66.09375],\n",
       " [66.09375, 68.90625],\n",
       " [68.90625, 71.71875],\n",
       " [71.71875, 74.53125],\n",
       " [74.53125, 77.34375],\n",
       " [77.34375, 80.15625],\n",
       " [80.15625, 82.96875],\n",
       " [82.96875, 85.78125],\n",
       " [85.78125, 88.59375],\n",
       " [88.59375, 91.40625],\n",
       " [91.40625, 94.21875],\n",
       " [94.21875, 97.03125],\n",
       " [97.03125, 99.84375],\n",
       " [99.84375, 102.65625],\n",
       " [102.65625, 105.46875],\n",
       " [105.46875, 108.28125],\n",
       " [108.28125, 111.09375],\n",
       " [111.09375, 113.90625],\n",
       " [113.90625, 116.71875],\n",
       " [116.71875, 119.53125],\n",
       " [119.53125, 122.34375],\n",
       " [122.34375, 125.15625],\n",
       " [125.15625, 127.96875],\n",
       " [127.96875, 130.78125],\n",
       " [130.78125, 133.59375],\n",
       " [133.59375, 136.40625],\n",
       " [136.40625, 139.21875],\n",
       " [139.21875, 142.03125],\n",
       " [142.03125, 144.84375],\n",
       " [144.84375, 147.65625],\n",
       " [147.65625, 150.46875],\n",
       " [150.46875, 153.28125],\n",
       " [153.28125, 156.09375],\n",
       " [156.09375, 158.90625],\n",
       " [158.90625, 161.71875],\n",
       " [161.71875, 164.53125],\n",
       " [164.53125, 167.34375],\n",
       " [167.34375, 170.15625],\n",
       " [170.15625, 172.96875],\n",
       " [172.96875, 175.78125],\n",
       " [175.78125, 178.59375],\n",
       " [178.59375, 181.40625],\n",
       " [181.40625, 184.21875],\n",
       " [184.21875, 187.03125],\n",
       " [187.03125, 189.84375],\n",
       " [189.84375, 192.65625],\n",
       " [192.65625, 195.46875],\n",
       " [195.46875, 198.28125],\n",
       " [198.28125, 201.09375],\n",
       " [201.09375, 203.90625],\n",
       " [203.90625, 206.71875],\n",
       " [206.71875, 209.53125],\n",
       " [209.53125, 212.34375],\n",
       " [212.34375, 215.15625],\n",
       " [215.15625, 217.96875],\n",
       " [217.96875, 220.78125],\n",
       " [220.78125, 223.59375],\n",
       " [223.59375, 226.40625],\n",
       " [226.40625, 229.21875],\n",
       " [229.21875, 232.03125],\n",
       " [232.03125, 234.84375],\n",
       " [234.84375, 237.65625],\n",
       " [237.65625, 240.46875],\n",
       " [240.46875, 243.28125],\n",
       " [243.28125, 246.09375],\n",
       " [246.09375, 248.90625],\n",
       " [248.90625, 251.71875],\n",
       " [251.71875, 254.53125],\n",
       " [254.53125, 257.34375],\n",
       " [257.34375, 260.15625],\n",
       " [260.15625, 262.96875],\n",
       " [262.96875, 265.78125],\n",
       " [265.78125, 268.59375],\n",
       " [268.59375, 271.40625],\n",
       " [271.40625, 274.21875],\n",
       " [274.21875, 277.03125],\n",
       " [277.03125, 279.84375],\n",
       " [279.84375, 282.65625],\n",
       " [282.65625, 285.46875],\n",
       " [285.46875, 288.28125],\n",
       " [288.28125, 291.09375],\n",
       " [291.09375, 293.90625],\n",
       " [293.90625, 296.71875],\n",
       " [296.71875, 299.53125],\n",
       " [299.53125, 302.34375],\n",
       " [302.34375, 305.15625],\n",
       " [305.15625, 307.96875],\n",
       " [307.96875, 310.78125],\n",
       " [310.78125, 313.59375],\n",
       " [313.59375, 316.40625],\n",
       " [316.40625, 319.21875],\n",
       " [319.21875, 322.03125],\n",
       " [322.03125, 324.84375],\n",
       " [324.84375, 327.65625],\n",
       " [327.65625, 330.46875],\n",
       " [330.46875, 333.28125],\n",
       " [333.28125, 336.09375],\n",
       " [336.09375, 338.90625],\n",
       " [338.90625, 341.71875],\n",
       " [341.71875, 344.53125],\n",
       " [344.53125, 347.34375],\n",
       " [347.34375, 350.15625],\n",
       " [350.15625, 352.96875],\n",
       " [352.96875, 355.78125],\n",
       " [355.78125, 358.59375]]"
      ]
     },
     "execution_count": 221,
     "metadata": {},
     "output_type": "execute_result"
    }
   ],
   "source": [
    "detector_ang_range"
   ]
  },
  {
   "cell_type": "code",
   "execution_count": 202,
   "metadata": {},
   "outputs": [],
   "source": [
    "# 이제 정리된 dat_xyz_ang 과 detector_ang 을 이용하여 dat_xyz_ang 을 가까운 중심값으로 바꿔준다.\n",
    "def find_detector_number(dat_xyz_ang, detector_ang_range):\n",
    "    \n",
    "    final_dat_detector_num = []\n",
    "    for data_idx in range(len(dat_xyz_ang)):\n",
    "        a = 0\n",
    "        for i in range(len(detector_ang_range)):\n",
    "                if(detector_ang_range[i][0]<=dat_xyz_ang[data_idx] and detector_ang_range[i][1]>dat_xyz_ang[data_idx]):\n",
    "                    #print(detector_center_ang[i])\n",
    "                    final_dat_detector_num.append(i)\n",
    "                    break\n",
    "                elif(detector_ang_range[0][0]<=dat_xyz_ang[data_idx]-360 and detector_ang_range[0][1]>dat_xyz_ang[data_idx]-360):\n",
    "                    final_dat_detector_num.append(0)\n",
    "                    break\n",
    "                else:\n",
    "                    if(i==len(detector_ang_range)-1):\n",
    "                        print(\"디텍터 번호 찾는중 오류 발생\")\n",
    "                        print(detector_ang_range[i][0],\"<= \", dat_xyz_ang[data_idx], \"< \", detector_ang_range[i][1])\n",
    "                        print('=======================')\n",
    "    print(\"디텍터 번호 찾기 완료\")\n",
    "    return final_dat_detector_num\n",
    "                "
   ]
  },
  {
   "cell_type": "code",
   "execution_count": 159,
   "metadata": {},
   "outputs": [],
   "source": [
    "def mapping_detector_number(final_dat_detector_num,crystal_location):\n",
    "    final_data = []\n",
    "    for i in range(len(final_dat_detector_num)):\n",
    "        #print(final_dat_detector_num[i])\n",
    "        final_data.append(crystal_location[final_dat_detector_num[i]])\n",
    "    return final_data\n",
    "    \n",
    "    "
   ]
  },
  {
   "cell_type": "code",
   "execution_count": 160,
   "metadata": {},
   "outputs": [],
   "source": [
    "def start_preprocessing(detector_head_num, crystal_x_num, crystal_y_num, crystal_z_num, zero_to_head_len, crystal_x_len, crystal_y_len, crystal_z_len):\n",
    "    dat_list_all = []\n",
    "    dat_list_pre = []\n",
    "    dat_list = []\n",
    "    dat_list_xyz_1 = []\n",
    "    global sort_data\n",
    "    global detector_num\n",
    "    global origin_crystal_edge\n",
    "    global crystal_location\n",
    "\n",
    "\n",
    "    #print(\"--------------\" + dat_file_list[i]) + \"----------------\")\n",
    "    print(str(len(dat_file_list)) + \"개의 파일을 변환합니다.\")\n",
    "    for i in range(len(dat_file_list)):\n",
    "        idx = 0\n",
    "        print(str(i+1) + \"번째 파일\")\n",
    "        txt_data = open(dat_dir+dat_file_list[i],'r')\n",
    "        for j in txt_data:\n",
    "            j = \" \".join(j.split())\n",
    "            j = j.split(\" \")\n",
    "            dat_list_all.append(j)\n",
    "            #print(dat_list_all)\n",
    "\n",
    "    print(\"=================\")\n",
    "    \n",
    "    dat_len = len(dat_list_all) - 1\n",
    "    \n",
    "    # world referential (x,y,z)single1,(x`,y`,z`)single2 형태로 인덱싱\n",
    "    for i in range(len(dat_list_all) -1):\n",
    "        #print(i)\n",
    "        dat_list_pre.append(dat_list_all[i][8])\n",
    "        dat_list_pre.append(dat_list_all[i][9])\n",
    "        dat_list_pre.append(dat_list_all[i][10])\n",
    "        dat_list_pre.append(dat_list_all[i][31])\n",
    "        dat_list_pre.append(dat_list_all[i][32])\n",
    "        dat_list_pre.append(dat_list_all[i][33])\n",
    "\n",
    "    dat_list.append(list(chunks(dat_list_pre, 3)))\n",
    "    dat_list = list(itertools.chain(*dat_list))\n",
    "    dat_list_xyz_1.append(list(chunks(dat_list,2)))\n",
    "    dat_list_xyz_1 = list(itertools.chain(*dat_list_xyz_1))\n",
    "\n",
    "    print(\"좌표 가져오기 완료!\")\n",
    "    print(\"=================\")\n",
    "    txt_data.close()\n",
    "    \n",
    "    # 실제 데이터를 form에 맞게 수정\n",
    "    global dat_list_xyz\n",
    "    dat_list_xyz = make_form(dat_list_xyz_1, dat_len)\n",
    "    \n",
    "    #print(dat_list_xyz)\n",
    "    \n",
    "    # 각 크리스탈의 중심값 찾기 \n",
    "    #(detector_num, crystal_x_amount, crystal_y_amount, crystal_z_amount, r길이(원점으로부터 헤드까지 거리), 크리스탈의 x_len(cm), y_len(cm), z_len(cm))\n",
    "    crystal_location = YSS_find_xyz_center(detector_head_num, crystal_x_num, crystal_y_num, crystal_z_num, zero_to_head_len, crystal_x_len, crystal_y_len, crystal_z_len)\n",
    "    print(\"0번 디텍터 크리스탈 중심값:\",crystal_location[0])\n",
    "    print(\"중간지점 디텍터 인덱스:\",int(detector_head_num)/2)\n",
    "    print(\"중간지점 디텍터 중심값:\", crystal_location[int(detector_head_num/2)])\n",
    "    \n",
    "    # 2019.03.25 각도로 디텍터 번호 매기기\n",
    "    dat_xyz_ang = find_detector_angle(dat_list_xyz,detector_head_num)\n",
    "    final_dat_detector_num = find_detector_number(dat_xyz_ang, detector_ang_range)\n",
    "    final_data = mapping_detector_number(final_dat_detector_num, crystal_location)\n",
    "    \n",
    "    final_data = list(itertools.chain(*final_data))\n",
    "    final_data_1=[]\n",
    "    final_data_1.append(list(chunks(final_data, 2)))\n",
    "    final_data_1 = list(itertools.chain(*final_data_1))\n",
    "    \n",
    "    print(\"전체 데이터 수 : \", len(dat_xyz_ang))\n",
    "    print(\"맵핑된 데이터 수 :\", len(final_data))\n",
    "    print(\"중심값 변환 완료!\")\n",
    "    \n",
    "    return final_data_1\n",
    "    "
   ]
  },
  {
   "cell_type": "markdown",
   "metadata": {},
   "source": [
    "## R Phi Theta를 구하는 함수 \n"
   ]
  },
  {
   "cell_type": "code",
   "execution_count": 161,
   "metadata": {},
   "outputs": [],
   "source": [
    "def cal_angle (det1,det2):\n",
    "    \n",
    "    det_x1 = det1[0]\n",
    "    det_y1 = det1[1]\n",
    "    det_z1 = det1[2]\n",
    "    det_x2 = det2[0]\n",
    "    det_y2 = det2[1]\n",
    "    det_z2 = det2[2]\n",
    "    det_x1 = float(det_x1)\n",
    "    det_y1 = float(det_y1)\n",
    "    det_z1 = float(det_z1)\n",
    "    det_x2 = float(det_x2)\n",
    "    det_y2 = float(det_y2)\n",
    "    det_z2 = float(det_z2)\n",
    "    a = det_x1 - det_x2\n",
    "    b = det_y1 - det_y2\n",
    "    c = det_x2 - det_x1\n",
    "    d = det_y2 - det_y1\n",
    "    distance = float(zero_to_head_len + crystal_x_len/2 ) *2  #  float(zero_to_head_len + crystal_x_len/2 )  디텍터 반지름\n",
    "    theta = math.atan( ( det_z1 - det_z2 )/ distance)\n",
    "    \n",
    "    if b == 0 :\n",
    "        phi = 90*math.pi/180\n",
    "        radius = det_y1\n",
    "        \n",
    "\n",
    "        \n",
    "    else:\n",
    "        phi = math.atan(- a / b)\n",
    "        \n",
    "        if a == 0:\n",
    "            phi = 0\n",
    "            radius = det_x1\n",
    "        else:\n",
    "            radius = -(b / a) * det_x1 * math.sin(phi) + det_y1 * math.sin(phi)\n",
    "    \n",
    "    result = [radius, phi, theta]\n",
    "    return  result"
   ]
  },
  {
   "cell_type": "markdown",
   "metadata": {},
   "source": [
    "## R , Phi, Theta list 만드는 함수\n"
   ]
  },
  {
   "cell_type": "code",
   "execution_count": 162,
   "metadata": {},
   "outputs": [],
   "source": [
    "def cal_coincidence(data):\n",
    "    final_data_2=np.array(final_data_1)\n",
    "    record = []\n",
    "    result = []\n",
    "    for i in range(0,len(final_data_1)-1):\n",
    "        record.append(cal_angle(final_data_2[i][0],final_data_2[i][1]))\n",
    "\n",
    "    Theta = math.atan(crystal_z_len/( float(zero_to_head_len + crystal_x_len/2 ) *2))\n",
    "   \n",
    " #   for i in range (0,len(record)):\n",
    "  #      if (np.array(record)[:][i][2]>= -Theta) or (np.array(record)[:][i][2]<= Theta):\n",
    "   #         result.append(np.array(record)[:][i][:])\n",
    "    data = np.array(record)\n",
    "    \n",
    "    return data"
   ]
  },
  {
   "cell_type": "code",
   "execution_count": 163,
   "metadata": {},
   "outputs": [],
   "source": [
    "def cal_sinogram (data,size_x = 91, size_y = 180):\n",
    "    \n",
    "    Phi = [] # R Phi Theta 값 중에서 Phi 값 만을 뽑기 위해 만든 리스트\n",
    "    R = []  #R Phi Theta 값 중에서 R 값 만을 뽑기 위해 만든 리스트\n",
    "    \n",
    "    for i in range(0,len(data)):\n",
    "        Phi.append(math.degrees(data[:][i][1]))\n",
    "        R.append(data[:][i][0])\n",
    "    Phi_degrees = np.array(Phi)\n",
    "    radius = np.array(np.array(R)+float(zero_to_head_len +crystal_x_len/2)) # 음수 값을 없애주기 위해서 반지름을 더함    \n",
    "    radius[Phi_degrees < 0] = radius[Phi_degrees < 0] *(-1)\n",
    "    Phi_degrees[Phi_degrees < 0 ] = Phi_degrees[Phi_degrees < 0 ] + 180 # 음수인 각도들을 180도를 더해줘서 바꿔준다.\n",
    "    \n",
    "    \n",
    " \n",
    "    trans_degree = np.round(size_y *Phi_degrees/180)\n",
    "    trans_radius = np.round(size_x *radius/( float(zero_to_head_len + crystal_x_len/2 ) *2))\n",
    "    \n",
    "    trans_radius[trans_degree>(size_y-1)] = trans_radius[trans_degree>(size_y-1)] * (-1)\n",
    "    trans_degree[trans_degree>(size_y-1)] =trans_degree[trans_degree>(size_y-1)] - size_y\n",
    "        \n",
    "    \n",
    "    image = np.zeros((size_y,size_x)) \n",
    "        # Sinogram 이미지를 만들기위해서 빈 이미지를 만들어준다.\n",
    "        \n",
    "    for i in range(0, len(trans_degree)):\n",
    "            image[int(trans_degree[i])][int(trans_radius[i])] = image[int(trans_degree[i])][int(trans_radius[i])] + 1\n",
    "    \n",
    "#    print(image.max())\n",
    "#    print(\"image 모양\")\n",
    "#    print(image.shape)\n",
    "#    print(\"coincidence 개수\")\n",
    "#    print(trans_degree.shape)\n",
    "#    print(trans_radius.shape)\n",
    "#    print(\"trans_degree 최대 최소값\")\n",
    "#    print(trans_degree.max())\n",
    "#    print(trans_degree.min())\n",
    "#    print(\"trans_radius 최대 최소값\")\n",
    "#    print(trans_radius.max())\n",
    "#    print(trans_radius.min())\n",
    "    \n",
    "    return image   "
   ]
  },
  {
   "cell_type": "code",
   "execution_count": 164,
   "metadata": {},
   "outputs": [],
   "source": [
    "def draw_sinogram(size_x , size_y):\n",
    "    image = cal_sinogram(cal_coincidence(final_data_1),size_y,size_x)\n",
    "    print(\"image의 최대 intensity\")\n",
    "    print(image.max())\n",
    "    print(\"image 모양\")\n",
    "    print(image.shape)\n",
    "    fig, (ax1) = plt.subplots(1, 1, figsize = (16,16))\n",
    "    ax1.set_title(\"Sinogram\")\n",
    "    ax1.set_xlabel(\"Projection position \")\n",
    "    ax1.set_ylabel(\"Projection angle ( deg)\")\n",
    "    plt.imshow(image, cmap=plt.cm.Greys_r)\n",
    "    \n",
    "    \n",
    "    \n",
    "    \n",
    "    \n",
    "    "
   ]
  },
  {
   "cell_type": "code",
   "execution_count": 165,
   "metadata": {},
   "outputs": [],
   "source": [
    "def draw_sinogram_custom(size_x , size_y):\n",
    "    image = cal_sinogram(cal_coincidence(final_data_1),size_y,size_x)\n",
    "    print(\"image의 최대 intensity\")\n",
    "    print(image.max())\n",
    "    print(\"image 모양\")\n",
    "    print(image.shape)\n",
    "    fig, (ax1) = plt.subplots(1, 1, figsize = (16,16))\n",
    "    ax1.set_title(\"Sinogram\")\n",
    "    ax1.set_xlabel(\"Projection position \")\n",
    "    ax1.set_ylabel(\"Projection angle ( deg)\")\n",
    "    vmax_input = input(\"vmax = \")\n",
    "    plt.imshow(image, cmap=plt.cm.Greys_r, vmax = vmax_input)\n"
   ]
  },
  {
   "cell_type": "markdown",
   "metadata": {},
   "source": [
    "---"
   ]
  },
  {
   "cell_type": "markdown",
   "metadata": {},
   "source": [
    "---"
   ]
  },
  {
   "cell_type": "markdown",
   "metadata": {},
   "source": [
    "---\n",
    "1234 사분면 주의"
   ]
  },
  {
   "cell_type": "markdown",
   "metadata": {},
   "source": [
    "# 1.xy 값 이용하여 각도 구해서\n",
    "# 2. 몇번깨 각도인지 판단."
   ]
  },
  {
   "cell_type": "markdown",
   "metadata": {},
   "source": [
    "---"
   ]
  },
  {
   "cell_type": "markdown",
   "metadata": {},
   "source": [
    "---"
   ]
  },
  {
   "cell_type": "markdown",
   "metadata": {},
   "source": [
    "# 실행 부분\n",
    "## 변수 값만 변경할것\n",
    "## 데이터 경로 설정에서 각 파일 명에 대한 슬라이싱 범위 체크할것"
   ]
  },
  {
   "cell_type": "code",
   "execution_count": 254,
   "metadata": {},
   "outputs": [
    {
     "name": "stdout",
     "output_type": "stream",
     "text": [
      "['./data\\\\gate_data_0000_2019.03.18_0001.dat', './data\\\\gate_data_0000_2019.03.18_0002.dat', './data\\\\gate_data_0001_2019.03.18_0001.dat', './data\\\\gate_data_0001_2019.03.18_0002.dat', './data\\\\gate_data_2019.03.11_0001.dat', './data\\\\gate_data_2019.03.11_0002.dat', './data\\\\gate_data_2019.03.11_0003.dat', './data\\\\gate_data_2019.03.11_0004.dat', './data\\\\gate_data_test_2019.03.20_0001.dat', './data\\\\gate_data_test_2019.03.20_0002.dat']\n",
      "gate_data_0001_2019.03.18_0002.dat\n"
     ]
    }
   ],
   "source": [
    "import glob\n",
    "# 데이터 경로 설정\n",
    "dat_dir = \"./data/\"\n",
    "dat_file_list = glob.glob(dat_dir + '/*.dat')\n",
    "dat_file_list.sort()\n",
    "print(dat_file_list)\n",
    "print(dat_file_list[3][-34:])\n",
    "\n",
    "# 파일명 슬라이싱\n",
    "dat_file_list = [dat_file_list[3][-34:]]"
   ]
  },
  {
   "cell_type": "code",
   "execution_count": 255,
   "metadata": {},
   "outputs": [],
   "source": [
    "# 변수 정의\n",
    "\n",
    "#디텍터 헤드 갯수\n",
    "detector_head_num =  128\n",
    "\n",
    "# 크리스탈 각 축의 갯수\n",
    "ctystal_x_num = 1\n",
    "ctystal_y_num = 1\n",
    "ctystal_z_num = 1\n",
    "\n",
    "# 단위 = cm\n",
    "zero_to_head_len = 7\n",
    "crystal_x_len = 3\n",
    "crystal_y_len = 0.2\n",
    "crystal_z_len = 1.8\n",
    "\n"
   ]
  },
  {
   "cell_type": "markdown",
   "metadata": {},
   "source": [
    "# 디텍터 번호중에 번호가 제대로 안매겨진 것들이 존재.\n",
    "안맞는 번호에 +1 을 해줄경우 제대로 들어감. 이유가 뭘까?"
   ]
  },
  {
   "cell_type": "code",
   "execution_count": 256,
   "metadata": {
    "scrolled": true
   },
   "outputs": [
    {
     "name": "stdout",
     "output_type": "stream",
     "text": [
      "1개의 파일을 변환합니다.\n",
      "1번째 파일\n",
      "=================\n",
      "좌표 가져오기 완료!\n",
      "=================\n",
      "0번 디텍터 크리스탈 중심값: [['7.000', '0.000', '0.000']]\n",
      "중간지점 디텍터 인덱스: 64.0\n",
      "중간지점 디텍터 중심값: [['-7.000', '0.000', '0.000']]\n"
     ]
    },
    {
     "name": "stderr",
     "output_type": "stream",
     "text": [
      "100%|██████████████████████████████████████████████████████████████████████| 134945/134945 [00:00<00:00, 160580.05it/s]\n"
     ]
    },
    {
     "name": "stdout",
     "output_type": "stream",
     "text": [
      "각도를 구할 때 잘못된 데이터 수 :  0\n",
      "각도 구하기 완료\n",
      "==================\n",
      "디텍터 번호 찾기 완료\n",
      "전체 데이터 수 :  269890\n",
      "맵핑된 데이터 수 : 269890\n",
      "중심값 변환 완료!\n"
     ]
    }
   ],
   "source": [
    "final_data_1 =start_preprocessing(detector_head_num, ctystal_x_num, ctystal_y_num, ctystal_z_num, zero_to_head_len, crystal_x_len, crystal_y_len, crystal_z_len)\n",
    "\n",
    "\n",
    "        \n",
    "    "
   ]
  },
  {
   "cell_type": "code",
   "execution_count": null,
   "metadata": {},
   "outputs": [],
   "source": []
  },
  {
   "cell_type": "code",
   "execution_count": 257,
   "metadata": {},
   "outputs": [
    {
     "data": {
      "text/plain": [
       "array([[ 1.19662126, -1.20258149,  0.        ],\n",
       "       [ 1.36585366, -1.07991797,  0.        ],\n",
       "       [ 3.14745428, -0.0245531 ,  0.        ],\n",
       "       ...,\n",
       "       [ 1.86664525,  0.90812809,  0.        ],\n",
       "       [ 0.85702289, -1.30080106,  0.        ],\n",
       "       [ 3.45046468, -0.12271553,  0.        ]])"
      ]
     },
     "execution_count": 257,
     "metadata": {},
     "output_type": "execute_result"
    }
   ],
   "source": [
    "cal_coincidence(final_data_1)"
   ]
  },
  {
   "cell_type": "code",
   "execution_count": 258,
   "metadata": {},
   "outputs": [
    {
     "data": {
      "text/plain": [
       "array([[0., 0., 0., ..., 0., 0., 0.],\n",
       "       [0., 0., 0., ..., 0., 0., 0.],\n",
       "       [0., 0., 0., ..., 0., 0., 0.],\n",
       "       ...,\n",
       "       [0., 0., 0., ..., 0., 0., 0.],\n",
       "       [0., 0., 0., ..., 0., 0., 0.],\n",
       "       [0., 0., 0., ..., 0., 0., 0.]])"
      ]
     },
     "execution_count": 258,
     "metadata": {},
     "output_type": "execute_result"
    }
   ],
   "source": [
    "cal_sinogram(cal_coincidence(final_data_1))"
   ]
  },
  {
   "cell_type": "code",
   "execution_count": 259,
   "metadata": {
    "scrolled": false
   },
   "outputs": [
    {
     "name": "stdout",
     "output_type": "stream",
     "text": [
      "image의 최대 intensity\n",
      "2115.0\n",
      "image 모양\n",
      "(64, 40)\n"
     ]
    },
    {
     "data": {
      "image/png": "[encoded data removed]",
      "text/plain": [
       "<Figure size 1152x1152 with 1 Axes>"
      ]
     },
     "metadata": {
      "needs_background": "light"
     },
     "output_type": "display_data"
    }
   ],
   "source": [
    "draw_sinogram(64,40)"
   ]
  },
  {
   "cell_type": "code",
   "execution_count": 236,
   "metadata": {},
   "outputs": [
    {
     "name": "stdout",
     "output_type": "stream",
     "text": [
      "image의 최대 intensity\n",
      "2115.0\n",
      "image 모양\n",
      "(64, 40)\n",
      "vmax = 1500\n"
     ]
    },
    {
     "data": {
      "image/png": "[encoded data removed]",
      "text/plain": [
       "<Figure size 1152x1152 with 1 Axes>"
      ]
     },
     "metadata": {
      "needs_background": "light"
     },
     "output_type": "display_data"
    }
   ],
   "source": [
    "draw_sinogram_custom(64,40)"
   ]
  },
  {
   "cell_type": "code",
   "execution_count": null,
   "metadata": {},
   "outputs": [],
   "source": []
  },
  {
   "cell_type": "code",
   "execution_count": null,
   "metadata": {},
   "outputs": [],
   "source": []
  }
 ],
 "metadata": {
  "kernelspec": {
   "display_name": "Python 3",
   "language": "python",
   "name": "python3"
  },
  "language_info": {
   "codemirror_mode": {
    "name": "ipython",
    "version": 3
   },
   "file_extension": ".py",
   "mimetype": "text/x-python",
   "name": "python",
   "nbconvert_exporter": "python",
   "pygments_lexer": "ipython3",
   "version": "3.6.8"
  }
 },
 "nbformat": 4,
 "nbformat_minor": 2
}
