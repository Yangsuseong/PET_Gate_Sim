{
 "cells": [
  {
   "cell_type": "markdown",
   "metadata": {},
   "source": [
    "# GATE SIMULATION\n",
    "###                              data preprocessing\n",
    "                                                 made by Yangsuseong and Hongyonggi\n",
    "                                                 \n",
    "변수 선언 및 실행 함수는 아래 있음."
   ]
  },
  {
   "cell_type": "code",
   "execution_count": 1,
   "metadata": {},
   "outputs": [],
   "source": [
    "import os, glob, csv, codecs\n",
    "import shutil\n",
    "import re\n",
    "import itertools\n",
    "import math\n",
    "import numpy as np\n",
    "import matplotlib.pyplot as plt\n",
    "import tqdm"
   ]
  },
  {
   "cell_type": "code",
   "execution_count": 2,
   "metadata": {},
   "outputs": [],
   "source": [
    "# 리스트 청크 함수 (리스트, 원하는 길이)\n",
    "# 이거 하고나면 차원이 하나가 더 생겨서 언패킹함수를 사용하여 차원축소를 해야함\n",
    "# dat_list.append(list(chunks(dat_list_pre, 3)))\n",
    "def chunks(l, n):\n",
    "    n = max(1, n)\n",
    "    return (l[i:i+n] for i in range(0, len(l), n))"
   ]
  },
  {
   "cell_type": "code",
   "execution_count": 3,
   "metadata": {},
   "outputs": [],
   "source": [
    "# 차원 축소 함수\n",
    "# dat_list = list(itertools.chain(*dat_list))\n",
    "def chain(*iterables):\n",
    "    # chain('ABC', 'DEF') --> ['A', 'B', 'C', 'D', 'E', 'F']\n",
    "    for it in iterables:\n",
    "        for element in it:\n",
    "            yield element\n"
   ]
  },
  {
   "cell_type": "markdown",
   "metadata": {},
   "source": [
    "#실제 데이터를 알맞는 form으로 바꾸는 함수\n",
    "def make_form(dat_list_xyz, dat_len):\n",
    "    for i in range(dat_len):\n",
    "        for j in range(2):\n",
    "            for k in range(3):\n",
    "                if(str(dat_list_xyz[i][j][k][-4:]) == \"e-06\"):\n",
    "                    dat_list_xyz[i][j][k] = str(float(dat_list_xyz[i][j][k][:-4]) * (10**-6) * 0.1)\n",
    "                    #print(\"e-06 complete\")\n",
    "                if(str(dat_list_xyz[i][j][k][-4:]) == \"e-05\"):\n",
    "                    dat_list_xyz[i][j][k] = str(float(dat_list_xyz[i][j][k][:-4]) * (10**-5)* 0.1)\n",
    "                    #print(\"e-05 complete\")\n",
    "                if(str(dat_list_xyz[i][j][k][-4:]) == \"e-04\"):\n",
    "                    dat_list_xyz[i][j][k] = str(float(dat_list_xyz[i][j][k][:-4]) * (10**-4)* 0.1)\n",
    "                    #print(\"e-04 complete\")\n",
    "                if(str(dat_list_xyz[i][j][k][-4:]) == \"e-03\"):\n",
    "                    dat_list_xyz[i][j][k] = str(float(dat_list_xyz[i][j][k][:-4]) * (10**-3)* 0.1)\n",
    "                    #print(\"e-03 complete\")\n",
    "                if(str(dat_list_xyz[i][j][k][-4:]) == \"e-02\"):\n",
    "                    dat_list_xyz[i][j][k] = str(float(dat_list_xyz[i][j][k][:-4]) * (10**-2)* 0.1)\n",
    "                    #print(\"e-02 complete\")\n",
    "                if(str(dat_list_xyz[i][j][k][-4:]) == \"e-01\"):\n",
    "                    dat_list_xyz[i][j][k] = str(float(dat_list_xyz[i][j][k][:-4]) * (10**-1)* 0.1)\n",
    "                    #print(\"e-01 complete\")\n",
    "                if(str(dat_list_xyz[i][j][k][-4:]) == \"e+00\"):\n",
    "                    dat_list_xyz[i][j][k] = str(float(dat_list_xyz[i][j][k][:-4])* 0.1)\n",
    "                    #print(\"e+00 complete\")\n",
    "                if(str(dat_list_xyz[i][j][k][-4:]) == \"e+01\"):\n",
    "                    dat_list_xyz[i][j][k] = str(float(dat_list_xyz[i][j][k][:-4]) * (10)* 0.1)\n",
    "                    #print(\"e+01 complete\")\n",
    "                if(str(dat_list_xyz[i][j][k][-4:]) == \"e+02\"):\n",
    "                    dat_list_xyz[i][j][k] = str(float(dat_list_xyz[i][j][k][:-4]) * (10**2)* 0.1)\n",
    "                    #print(\"e+02 complete\")\n",
    "                if(str(dat_list_xyz[i][j][k][-4:]) == \"e+03\"):\n",
    "                    dat_list_xyz[i][j][k] = str(float(dat_list_xyz[i][j][k][:-4]) * (10**3)* 0.1)\n",
    "                    #print(\"e+03 complete\")\n",
    "    #print(\"Complete\") \n",
    "    #print(\"=================\")\n",
    "    return dat_list_xyz"
   ]
  },
  {
   "cell_type": "code",
   "execution_count": 4,
   "metadata": {},
   "outputs": [],
   "source": [
    "#실제 데이터를 알맞는 form으로 바꾸는 함수\n",
    "def make_form(dat_list_xyz, dat_len):\n",
    "    for i in range(dat_len):\n",
    "        for j in range(2):\n",
    "            for k in range(3):\n",
    "                for l in range(20):\n",
    "                    if(l < 10):\n",
    "                        if(str(dat_list_xyz[i][j][k][-4:]) == (\"e+0\"+str(l))):\n",
    "                            dat_list_xyz[i][j][k] = str(float(dat_list_xyz[i][j][k][:-4]) * (10 ** int(l)) * 0.1)\n",
    "                            #print(dat_list_xyz[i][j][k])\n",
    "                        if(str(dat_list_xyz[i][j][k][-4:]) == (\"e-0\"+str(l))):\n",
    "                            dat_list_xyz[i][j][k] = str(float(dat_list_xyz[i][j][k][:-4]) * (10 ** -int(l)) * 0.1)\n",
    "                    elif(l >= 10):\n",
    "                        if(str(dat_list_xyz[i][j][k][-4:]) == (\"e+\"+str(l))):\n",
    "                            dat_list_xyz[i][j][k] = str(float(dat_list_xyz[i][j][k][:-4]) * (10 ** int(l)) * 0.1)\n",
    "                        if(str(dat_list_xyz[i][j][k][-4:]) == (\"e-\"+str(l))):\n",
    "                            dat_list_xyz[i][j][k] = str(float(dat_list_xyz[i][j][k][:-4]) * (10 ** -int(l)) * 0.1)\n",
    "                        \n",
    "                \n",
    "               \n",
    "    return dat_list_xyz"
   ]
  },
  {
   "cell_type": "code",
   "execution_count": 5,
   "metadata": {},
   "outputs": [],
   "source": [
    "# 각 크리스탈의 중심값을 얻어내기위한 함수 (3x3)\n",
    "# find_xyz_center(디텍터 갯수, 크리스탈의 x축 갯수, 크리스탈의 y축 갯수, 크리스탈의 z축 갯수, 원점으로부터의 거리, 크리스탈의 x축 길이, 크리스탈의 y축 길이, 크리스탈의 z축 길이)\n",
    "def YSS_find_xyz_center(detector_amount, crystal_x_amount, crystal_y_amount, crystal_z_amount, r, x_len, y_len, z_len):\n",
    "    crystal_x_num = int((int(crystal_x_amount)/2))\n",
    "    r = r-(x_len/2)\n",
    "    \n",
    "    \n",
    "    result = []\n",
    "    for i in range(int(detector_amount)):\n",
    "        detector = []\n",
    "        crystal = []\n",
    "        crystal_z_num = int((int(crystal_z_amount)/2))\n",
    "        for j in range(int(crystal_z_amount)):\n",
    "            \n",
    "            crystal_y_num = int((int(crystal_y_amount)/2))\n",
    "            for k in range(int(crystal_y_amount)):\n",
    "                crystal.append([r + (x_len/2), (y_len * crystal_y_num), (z_len * -crystal_z_num)])\n",
    "                crystal_y_num = crystal_y_num - 1\n",
    "            crystal_z_num = crystal_z_num - 1\n",
    "        detector.append(crystal)\n",
    "        result.append(detector)\n",
    "    result = list(itertools.chain(*result))\n",
    "    detector_rot = result\n",
    "    result = []\n",
    "    \n",
    "    detector_num = 0\n",
    "    for i in range(int(detector_amount)):\n",
    "        det_rot = []\n",
    "        for j in range(len(detector_rot[i])):\n",
    "            det_rot.append([format((detector_rot[i][j][0]*math.cos(((360/detector_amount)*detector_num)*math.pi/180)) - (detector_rot[i][j][1]*math.sin(((360/detector_amount)*detector_num)*math.pi/180)),\".3f\"),\\\n",
    "                           format((detector_rot[i][j][0]*math.sin(((360/detector_amount)*detector_num)*math.pi/180)) + (detector_rot[i][j][1]*math.cos(((360/detector_amount)*detector_num)*math.pi/180)),\".3f\"),\\\n",
    "                           format(detector_rot[i][j][2],\".3f\")])\n",
    "        detector_num += 1\n",
    "        result.append(det_rot)\n",
    "    \n",
    "            \n",
    "    \n",
    "    return result"
   ]
  },
  {
   "cell_type": "code",
   "execution_count": 6,
   "metadata": {},
   "outputs": [],
   "source": [
    "# 각 디텍터의 중심값을 받아와 크리스탈의 모서리의 좌표를 구하는 함수\n",
    "def find_crystal_edge(x, y, z, x_len, y_len, z_len):\n",
    "    x = float(x)\n",
    "    y = float(y)\n",
    "    z = float(z)\n",
    "    x_len = float(x_len)\n",
    "    y_len = float(y_len)\n",
    "    z_len = float(z_len)\n",
    "    edge_a1 = [x-(x_len/2), y+(y_len/2), z-(z_len/2)]\n",
    "    edge_b1 = [x-(x_len/2), y+(y_len/2), z+(z_len/2)]\n",
    "    edge_c1 = [x-(x_len/2), y-(y_len/2), z-(z_len/2)]\n",
    "    edge_d1 = [x-(x_len/2), y-(y_len/2), z+(z_len/2)]\n",
    "    edge_a2 = [x+(x_len/2), y+(y_len/2), z-(z_len/2)]\n",
    "    edge_b2 = [x+(x_len/2), y+(y_len/2), z+(z_len/2)]\n",
    "    edge_c2 = [x+(x_len/2), y-(y_len/2), z-(z_len/2)]\n",
    "    edge_d2 = [x+(x_len/2), y-(y_len/2), z+(z_len/2)]\n",
    "    \n",
    "    \n",
    "    crystal_edge = [edge_a1, edge_b1, edge_c1, edge_d1, edge_a2, edge_b2, edge_c2, edge_d2]\n",
    "    #print(crystal_edge)\n",
    "    return crystal_edge"
   ]
  },
  {
   "cell_type": "code",
   "execution_count": 7,
   "metadata": {},
   "outputs": [],
   "source": [
    "def rotate_edge(crystal_edge, detector_num):\n",
    "    rotate_crystal_edge_1 = []\n",
    "    for i in range(detector_num):\n",
    "        for j in range(len(crystal_edge)):\n",
    "            for k in range(len(crystal_edge[j])):\n",
    "                rotate_crystal_edge_1.append([(crystal_edge[j][k][0]*math.cos(((360/detector_num))*i*math.pi/180)) - (crystal_edge[j][k][1]*math.sin(((360/detector_num))*i*math.pi/180)),\\\n",
    "                                               (crystal_edge[j][k][0]*math.sin(((360/detector_num))*i*math.pi/180)) + (crystal_edge[j][k][1]*math.cos(((360/detector_num))*i*math.pi/180)),\\\n",
    "                                                crystal_edge[j][k][2]])\n",
    "            \n",
    "    return rotate_crystal_edge_1"
   ]
  },
  {
   "cell_type": "code",
   "execution_count": 8,
   "metadata": {},
   "outputs": [],
   "source": [
    "def rotate_edge_yss(x, y, z, angle):\n",
    "    rotate_crystal_edge_1 = []\n",
    "    x = float(x)\n",
    "    y = float(y)\n",
    "    z = float(z)\n",
    "    rotate_crystal_edge_1.append([(x*math.cos(angle*math.pi/180)) - (y*math.sin(angle*math.pi/180)),\\\n",
    "                               (x*math.sin(angle*math.pi/180)) + (y*math.cos(angle*math.pi/180)),\\\n",
    "                                z])\n",
    "    return rotate_crystal_edge_1\n"
   ]
  },
  {
   "cell_type": "code",
   "execution_count": 9,
   "metadata": {},
   "outputs": [],
   "source": [
    "# 데이터 범위를 디텍터 갯수에 맞게 미리 나누어내는 방법\n",
    "# find_detector(원본 데이터, 모서리값, 디텍터 갯수)\n",
    "\n",
    "\n",
    "def find_detector(dat_list, rotate_crystal_edge_chunks):\n",
    "    detector_number = []\n",
    "    \n",
    "    \n",
    "    for l in tqdm.tqdm(range(len(dat_list))):\n",
    "        detector_num = []\n",
    "        sort_data_1 = []\n",
    "        for m in range(len(dat_list[l])):\n",
    "                    # 여기까지 데이터 읽어오기\n",
    "            for i in range(len(rotate_crystal_edge_chunks)):\n",
    "                # 디텍터 헤드 갯수\n",
    "                \n",
    "                x_max = -1000\n",
    "                x_min = 1000\n",
    "                y_max = -1000\n",
    "                y_min = 1000\n",
    "                z_max = -1000\n",
    "                z_min = 1000\n",
    "                for j in range(len(rotate_crystal_edge_chunks[i])):\n",
    "                    # 크리스탈 갯수\n",
    "                    for k in range(len(rotate_crystal_edge_chunks[i][j])):\n",
    "                        # 모서리 갯수\n",
    "                        if(float(rotate_crystal_edge_chunks[i][j][k][0]) > x_max):\n",
    "                            x_max = rotate_crystal_edge_chunks[i][j][k][0]\n",
    "                        if(float(rotate_crystal_edge_chunks[i][j][k][0]) < x_min):\n",
    "                            x_min = rotate_crystal_edge_chunks[i][j][k][0]\n",
    "                        if(float(rotate_crystal_edge_chunks[i][j][k][1]) > y_max):\n",
    "                            y_max = rotate_crystal_edge_chunks[i][j][k][1]\n",
    "                        if(float(rotate_crystal_edge_chunks[i][j][k][1]) < y_min):\n",
    "                            y_min = rotate_crystal_edge_chunks[i][j][k][1]\n",
    "                        if(float(rotate_crystal_edge_chunks[i][j][k][2]) > z_max):\n",
    "                            z_max = rotate_crystal_edge_chunks[i][j][k][2]\n",
    "                        if(float(rotate_crystal_edge_chunks[i][j][k][2]) < z_min):\n",
    "                            z_min = rotate_crystal_edge_chunks[i][j][k][2]\n",
    "                #print(str(i)+\" : \" + str(x_min) + \" < x < \" + str(x_max) + \", \" + str(y_min) + \" < y < \" + str(y_max))\n",
    "                if(float(dat_list[l][m][0])>x_min and float(dat_list[l][m][0])<x_max):\n",
    "                    if(float(dat_list[l][m][1])>y_min and float(dat_list[l][m][1])<y_max):    \n",
    "                        if(float(dat_list[l][m][2])>z_min and float(dat_list[l][m][2])<z_max):\n",
    "                            detector_num.append(i)\n",
    "                            #if(m == 1):\n",
    "                            sort_data_1.append(dat_list[l][m])\n",
    "        \n",
    "    # 버려지는 데이터들이 있어서 쌍이 있는 데이터들만 남기겠다.\n",
    "    # 여기서 엄청많이 버려진다 데이터가....\n",
    "        if(len(detector_num)==2):\n",
    "            sort_data.append(sort_data_1)\n",
    "            detector_number.append(detector_num)    \n",
    "\n",
    "    return detector_number"
   ]
  },
  {
   "cell_type": "code",
   "execution_count": 10,
   "metadata": {},
   "outputs": [],
   "source": [
    "# 정렬된 데이터와 디텍터 번호를 받아와 티텍터의 회전각만큼 회전변환을 통해 중심값으로 변경시키는 함수\n",
    "# rotate_detector(정렬된 데이터, 디텍터 번호가 적힌 리스트, 디텍터 갯수)\n",
    "def rotate_detector(sort_dat, detector_number, detector_num):\n",
    "    a = 0\n",
    "    b = 0\n",
    "    c = 0\n",
    "    final_dat = []\n",
    "    angle = float(360/int(detector_num))\n",
    "    for idx,detector_n in enumerate(detector_number):\n",
    "        #print(detector_n)\n",
    "        #print(idx)\n",
    "        # 먼저 x축과 평행한 디텍터로 옮기는 작업(회전변환)\n",
    "        \n",
    "        #data = rotate_edge_yss(sort_dat[idx][0],sort_dat[idx][1],sort_dat[idx][2],detector_num-(angle*float(detector_n)))\n",
    "        data = rotate_edge_yss(sort_dat[idx][0],sort_dat[idx][1],sort_dat[idx][2],-(angle*float(detector_n)))\n",
    "        \n",
    "        #if(idx % 100 == 0):\n",
    "            #print(idx)\n",
    "            #print(data)\n",
    "        #for j in range(len(sort_dat)):\n",
    "            # 데이터를 읽은 후에 xyz범위를 찾아야지\n",
    "        for i in range(len(origin_crystal_edge)):\n",
    "            \n",
    "            x_min = float(origin_crystal_edge[i][0][0])\n",
    "            x_max = float(origin_crystal_edge[i][4][0])\n",
    "            y_min = float(origin_crystal_edge[i][2][1])\n",
    "            y_max = float(origin_crystal_edge[i][0][1])\n",
    "            z_min = float(origin_crystal_edge[i][2][2])\n",
    "            z_max = float(origin_crystal_edge[i][3][2])\n",
    "            \n",
    "            if(c == 0):\n",
    "                print(\"=====\",i,\"=====\")\n",
    "                print(x_min,\"<=x<\",x_max)\n",
    "                print(y_min,\"<=y<\",y_max)\n",
    "                print(z_min,\"<=z<\",z_max)\n",
    "                print(\"============\")\n",
    "            \n",
    "\n",
    "            if(float(data[0][0])>=x_min and float(data[0][0])<x_max):\n",
    "                if(float(data[0][1])>=y_min and float(data[0][1])<y_max):\n",
    "                    if(float(data[0][2])>=z_min and float(data[0][2])<z_max):\n",
    "                        after_data = rotate_edge_yss(crystal_location[0][i][0],crystal_location[0][i][1],crystal_location[0][i][2],angle*detector_n)\n",
    "                        a = a+1\n",
    "                        final_dat.append(after_data)\n",
    "                \n",
    "        c = c+1\n",
    "    print(\"전체 데이터:\",len(sort_dat))\n",
    "    print(\"범위 내의 값:\",a)                    \n",
    "    print(\"범위 밖의 값:\",len(sort_dat)-a)\n",
    "    print(\"=================\")\n",
    "\n",
    "    return final_dat\n",
    "                "
   ]
  },
  {
   "cell_type": "code",
   "execution_count": 393,
   "metadata": {},
   "outputs": [],
   "source": [
    "def start_preprocessing(detector_head_num, ctystal_x_num, ctystal_y_num, ctystal_z_num, zero_to_head_len, crystal_x_len, crystal_y_len, crystal_z_len):\n",
    "    dat_list_all = []\n",
    "    dat_list_pre = []\n",
    "    dat_list = []\n",
    "    dat_list_xyz_1 = []\n",
    "    global sort_data\n",
    "    global detector_num\n",
    "    global origin_crystal_edge\n",
    "    global crystal_location\n",
    "\n",
    "\n",
    "    #print(\"--------------\" + dat_file_list[i]) + \"----------------\")\n",
    "    print(str(len(dat_file_list)) + \"개의 파일을 변환합니다.\")\n",
    "    for i in range(len(dat_file_list)):\n",
    "        idx = 0\n",
    "        print(str(i+1) + \"번째 파일\")\n",
    "        txt_data = open(dat_file_list[i],'r')\n",
    "        for j in txt_data:\n",
    "            j = \" \".join(j.split())\n",
    "            j = j.split(\" \")\n",
    "            dat_list_all.append(j)\n",
    "            #print(dat_list_all)\n",
    "\n",
    "    print(\"=================\")\n",
    "    \n",
    "    dat_len = len(dat_list_all) - 1\n",
    "    \n",
    "    for i in range(len(dat_list_all) -1):\n",
    "        #print(i)\n",
    "        dat_list_pre.append(dat_list_all[i][8])\n",
    "        dat_list_pre.append(dat_list_all[i][9])\n",
    "        dat_list_pre.append(dat_list_all[i][10])\n",
    "        dat_list_pre.append(dat_list_all[i][31])\n",
    "        dat_list_pre.append(dat_list_all[i][32])\n",
    "        dat_list_pre.append(dat_list_all[i][33])\n",
    "\n",
    "    dat_list.append(list(chunks(dat_list_pre, 3)))\n",
    "    dat_list = list(itertools.chain(*dat_list))\n",
    "    dat_list_xyz_1.append(list(chunks(dat_list,2)))\n",
    "    dat_list_xyz_1 = list(itertools.chain(*dat_list_xyz_1))\n",
    "\n",
    "    print(\"좌표 가져오기 완료!\")\n",
    "    print(\"=================\")\n",
    "    txt_data.close()\n",
    "    \n",
    "    # 실제 데이터를 form에 맞게 수정\n",
    "    global dat_list_xyz\n",
    "    dat_list_xyz = make_form(dat_list_xyz_1, dat_len)\n",
    "    \n",
    "    #print(dat_list_xyz)\n",
    "    \n",
    "    # 각 크리스탈의 중심값 찾기 (detector_num, crystal_x_amount, crystal_y_amount, crystal_z_amount, r길이(원점으로부터 헤드까지 거리), 크리스탈의 x_len(cm), y_len(cm), z_len(cm))\n",
    "\n",
    "    crystal_location = YSS_find_xyz_center(detector_head_num, crystal_x_num, crystal_y_num, crystal_z_num, zero_to_head_len, crystal_x_len, crystal_y_len, crystal_z_len)\n",
    "    print(\"0번 디텍터 크리스탈 중심값:\",crystal_location[0])\n",
    "    # 각 크리스탈의 모서리 값 구하기\n",
    "    origin_crystal_edge = []\n",
    "    for j in range(len(crystal_location[0])):\n",
    "        # find_crystal_edge(크리스탈 중점 x좌표, 크리스탈 중점 y좌표, 크리스탈 중점 z좌표, 크리스탈의 x_len, y_len z_len)\n",
    "        origin_crystal_edge.append(find_crystal_edge(crystal_location[0][j][0],\\\n",
    "                              crystal_location[0][j][1],\\\n",
    "                              crystal_location[0][j][2],\\\n",
    "                              crystal_x_len, crystal_y_len, crystal_z_len))  \n",
    "    \n",
    "    # 모서리 회전변환\n",
    "    # rotate_edge(0번 디텍터 크리스탈 엣지, 디텍터 헤드 갯수)\n",
    "    rotate_crystal_edge = rotate_edge(origin_crystal_edge, detector_head_num)\n",
    "\n",
    "    # 모서리 좌표 리스트를 차원을 늘려서 디텍터별로 나누자\n",
    "    rotate_crystal_edge_chunks_1 = []\n",
    "    global rotate_crystal_edge_chunks\n",
    "    rotate_crystal_edge_chunks = []\n",
    "    rotate_crystal_edge_chunks_1.append(list(chunks(rotate_crystal_edge, 8)))\n",
    "    rotate_crystal_edge_chunks_1 = list(itertools.chain(*rotate_crystal_edge_chunks_1))\n",
    "    rotate_crystal_edge_chunks.append(list(chunks(rotate_crystal_edge_chunks_1, crystal_x_num*crystal_y_num*crystal_z_num)))\n",
    "    rotate_crystal_edge_chunks = list(itertools.chain(*rotate_crystal_edge_chunks))\n",
    "    \n",
    "    # 함수 실행\n",
    "    \n",
    "    sort_data = []\n",
    "    global detector_number\n",
    "    global detector_num\n",
    "    # find_detector(원본 데이터, 각 크리스탈의 모서리값)\n",
    "    detector_number = find_detector(dat_list_xyz, rotate_crystal_edge_chunks)\n",
    "    #detector_number = list(itertools.chain(*detector_number))\n",
    "    #sort_data = list(itertools.chain(*sort_data)\n",
    "    \n",
    "    # 차원 축소 작업\n",
    "    detector_num = detector_number\n",
    "    detector_num = list(itertools.chain(*detector_num))\n",
    "    sort_dat = sort_data\n",
    "    sort_dat = list(itertools.chain(*sort_dat))\n",
    "    #sort_dat = list(itertools.chain(*sort_dat))\n",
    "    \n",
    "    # ============================================\n",
    "    print(\"sort_dat_len:\",len(sort_dat))\n",
    "    print(\"detector_num_len:\",len(detector_num))\n",
    "    # ============================================\n",
    "    \n",
    "    # 함수 돌리기\n",
    "    # rotate_detector(차원이 변경된 원본데이터, 각 coincidence가 감지된 디텍터 헤드 번호, 디텍터 헤드 갯수)\n",
    "    final_output = rotate_detector(sort_dat, detector_num, detector_head_num)\n",
    "    #print(final_output)\n",
    "    # 차원 축소 작업\n",
    "    final_data = final_output\n",
    "\n",
    "    final_data = list(itertools.chain(*final_data))\n",
    "\n",
    "    final_dat = []\n",
    "    for i in range(len(final_data)):\n",
    "        final_dat.append([float(final_data[i][0]), float(final_data[i][1]), float(final_data[i][2])])\n",
    "\n",
    "    final_data_1=[]\n",
    "    final_data_1.append(list(chunks(final_dat, 2)))\n",
    "    final_data_1 = list(itertools.chain(*final_data_1))\n",
    "    \n",
    "    print(\"preprocessing complete!\")\n",
    "    \n",
    "    return final_data_1"
   ]
  },
  {
   "cell_type": "markdown",
   "metadata": {},
   "source": [
    "## R Phi Theta를 구하는 함수 \n"
   ]
  },
  {
   "cell_type": "code",
   "execution_count": 12,
   "metadata": {},
   "outputs": [],
   "source": [
    "def cal_angle (det1,det2):\n",
    "    \n",
    "    det_x1 = det1[0]\n",
    "    det_y1 = det1[1]\n",
    "    det_z1 = det1[2]\n",
    "    det_x2 = det2[0]\n",
    "    det_y2 = det2[1]\n",
    "    det_z2 = det2[2]\n",
    "    det_x1 = float(det_x1)\n",
    "    det_y1 = float(det_y1)\n",
    "    det_z1 = float(det_z1)\n",
    "    det_x2 = float(det_x2)\n",
    "    det_y2 = float(det_y2)\n",
    "    det_z2 = float(det_z2)\n",
    "    a = det_x1 - det_x2\n",
    "    b = det_y1 - det_y2\n",
    "    c = det_x2 - det_x1\n",
    "    d = det_y2 - det_y1\n",
    "    distance = float(zero_to_head_len + crystal_x_len/2 ) *2  #  float(zero_to_head_len + crystal_x_len/2 )  디텍터 반지름\n",
    "    theta = math.atan( ( det_z1 - det_z2 )/ distance)\n",
    "    \n",
    "    if b == 0 :\n",
    "        phi = 90*math.pi/180\n",
    "        radius = det_y1\n",
    "        \n",
    "    elif d == 0:\n",
    "        phi = 90*math.pi/180\n",
    "        radius = det_y1\n",
    "        \n",
    "    else:\n",
    "        phi = math.atan(- a / b)\n",
    "        \n",
    "        if a == 0:\n",
    "            phi = 0\n",
    "            radius = det_x1\n",
    "        else:\n",
    "            radius = -(b / a) * det_x1 * math.sin(phi) + det_y1 * math.sin(phi)\n",
    "    \n",
    "    result = [radius, phi, theta]\n",
    "    return  result"
   ]
  },
  {
   "cell_type": "markdown",
   "metadata": {},
   "source": [
    "## def Phi_ angle : angle_flag가 True 이면 degree로 sinogram \n",
    "\n",
    "## final_data_1 데이터를 받아 R, Theta, Phi 로 바꾼 Numpy리스트 : numpyrecord를 만듬\n",
    "\n",
    "## Theta 구하는 공식 적용해서 indirect plane과 direct plane 합치기"
   ]
  },
  {
   "cell_type": "code",
   "execution_count": 516,
   "metadata": {},
   "outputs": [],
   "source": [
    "\n",
    "\n",
    "def drawSinogram (row_step = 1 ,column_step = 1 ,angle_flag = True):\n",
    "    final_data_2=np.array(final_data_1)\n",
    "    record = []\n",
    "    record1 = []\n",
    "    for i in range(0,len(final_data_1)-1):\n",
    "        record.append(cal_angle(final_data_2[i][0],final_data_2[i][1]))\n",
    "    numpyrecord = np.array(record)\n",
    "    #앞에서 정의하였던 cal_angle 함수를 이용하여 record 함수를 만든다.\n",
    "    \n",
    "    Theta = math.atan(crystal_z_len/( float(zero_to_head_len + crystal_x_len/2 ) *2))\n",
    "    # Theta 범위를 지정해주기 위한 값 \n",
    "    # indirect plane 값\n",
    "    \n",
    "    for i in range (0,len(numpyrecord)):\n",
    "        if (numpyrecord[:][i][2]>= -Theta) or (numpyrecord[:][i][2]<= Theta):\n",
    "            record1.append(numpyrecord[:][i][:])\n",
    "    # Theta 범위 안에 있는 값들만 뽑아서 record1에 더해주었다.\n",
    "    \n",
    "    \n",
    "    Phi = [] # R Phi Theta 값 중에서 Phi 값 만을 뽑기 위해 만든 리스트\n",
    "    Phi_degree = []\n",
    "    Phi_degree1 = []\n",
    "    Phi_degree2 = []\n",
    "    R = []  #R Phi Theta 값 중에서 R 값 만을 뽑기 위해 만든 리스트\n",
    "    \n",
    "    for i in range(0,len(record1)):\n",
    "        Phi.append(record1[:][i][1])\n",
    "        \n",
    "    for i in range(0,len(record1)):\n",
    "        R.append(record1[:][i][0])\n",
    "    R1 = np.array(R) \n",
    "    R2 = (R1+float(zero_to_head_len +crystal_x_len/2)) # 음수 값을 없애주기 위해서 반지름을 더함\n",
    "    R3 = np.array(R2)   \n",
    "    R4 = (R1*(-1)+float(zero_to_head_len +crystal_x_len/2))   \n",
    "   \n",
    "    \n",
    "    if angle_flag : # True 일 때 는 degree로 계산한다.\n",
    "        for j in range (0,len(record1)):\n",
    "            Phi_degree.append(math.degrees(Phi[j]))\n",
    "        Phi_degrees = np.array(Phi_degree)\n",
    "        Phi_degrees[Phi_degrees < 0 ] = Phi_degrees[Phi_degrees < 0 ] + 180 # 음수인 각도들을 180도를 더해줘서 바꿔준다.\n",
    "        for i in range(0,len(Phi_degrees)):\n",
    "            Phi_degree1.append(round(Phi_degrees[i]))\n",
    "        Phi_degree2 = np.array(Phi_degree1)\n",
    "        Phi_degree3 = Phi_degree2 \n",
    "        \n",
    "        for i in range(0,len(R2)):\n",
    "            if (Phi_degree1[i]> 90 ):\n",
    "                R3[i] = R4[i]\n",
    "        \n",
    "        image = np.zeros((180,int(float(zero_to_head_len +crystal_x_len/2) *2)),dtype =np.float64) \n",
    "        # Sinogram 이미지를 만들기위해서 빈 이미지를 만들어준다.\n",
    "        \n",
    "        for i in range(0, len(Phi_degree3)):\n",
    "            image[int(Phi_degree3[i])-1][int(round(R3[i]))-1] = image[int(Phi_degree3[i])-1][int(round(R3[i])) - 1] + 1\n",
    "        # image를 Phi_degree1의 값과 R2의 값에 따라 픽셀의 값을 올려준다, \n",
    "        \n",
    "       \n",
    "    \n",
    "    \n",
    "    \n",
    "    \n",
    "        r = []\n",
    "        c = []\n",
    "        for row in range(0,180, row_step):\n",
    "            sinogram_row_temp = np.sum(image[row:row+row_step], axis=0)\n",
    "            r.append(sinogram_row_temp)\n",
    "        \n",
    "            \n",
    "            \n",
    "        d= np.array(r)\n",
    "        \n",
    "        for column in range(0,d.shape[1],column_step):\n",
    "            sinogram_column_temp = np.sum(d[:, column:column+column_step],axis = 1)\n",
    "            print(sinogram_column_temp.shape)\n",
    "            c.append(sinogram_column_temp)\n",
    "            #np.concatenate(sinogram_column_temp)\n",
    "        \n",
    "        d1 = np.array(c).T\n",
    "       \n",
    "    fig, (ax1) = plt.subplots(1, 1, figsize = (16,16))\n",
    "    ax1.set_title(\"Sinogram\")\n",
    "    ax1.set_xlabel(\"Projection position \")\n",
    "    ax1.set_ylabel(\"Projection angle (%s deg)\"%row_step)\n",
    "    plt.imshow(d1, cmap=plt.cm.Greys_r)\n",
    "    \n",
    "    for i in range(0,180,row_step):\n",
    "        print(\"%d 부터 %d 까지의 intensity max값 : %d\"%(i ,i+row_step ,d[i:i+row_step].max()))\n",
    "\n",
    "    return d1"
   ]
  },
  {
   "cell_type": "markdown",
   "metadata": {},
   "source": [
    "---"
   ]
  },
  {
   "cell_type": "markdown",
   "metadata": {},
   "source": [
    "---"
   ]
  },
  {
   "cell_type": "markdown",
   "metadata": {},
   "source": [
    "---"
   ]
  },
  {
   "cell_type": "markdown",
   "metadata": {},
   "source": [
    "---"
   ]
  },
  {
   "cell_type": "markdown",
   "metadata": {},
   "source": [
    "---"
   ]
  },
  {
   "cell_type": "markdown",
   "metadata": {},
   "source": [
    "# 실행 부분\n",
    "## 변수 값만 변경할것\n",
    "## 데이터 경로 설정에서 각 파일 명에 대한 슬라이싱 범위 체크할것"
   ]
  },
  {
   "cell_type": "code",
   "execution_count": 1,
   "metadata": {},
   "outputs": [
    {
     "name": "stdout",
     "output_type": "stream",
     "text": [
      "['./data/gate_data_2019.03.11_0001.dat', './data/gate_data_2019.03.11_0002.dat', './data/gate_data_2019.03.11_0003.dat', './data/gate_data_2019.03.11_0004.dat']\n",
      "gate_data_2019.03.11_0003.dat\n"
     ]
    }
   ],
   "source": [
    "import glob\n",
    "# 데이터 경로 설정\n",
    "dat_dir = \"./data\"\n",
    "dat_file_list = glob.glob(dat_dir + '/*.dat')\n",
    "dat_file_list.sort()\n",
    "print(dat_file_list)\n",
    "print(dat_file_list[2][-29:])\n",
    "\n",
    "# 파일명 슬라이싱\n",
    "dat_file_list = [dat_file_list[2][-29:]]"
   ]
  },
  {
   "cell_type": "code",
   "execution_count": 152,
   "metadata": {},
   "outputs": [],
   "source": [
    "# 변수 정의\n",
    "\n",
    "#디텍터 헤드 갯수\n",
    "detector_head_num =  128\n",
    "\n",
    "# 크리스탈 각 축의 갯수\n",
    "ctystal_x_num = 1\n",
    "ctystal_y_num = 1\n",
    "ctystal_z_num = 9\n",
    "\n",
    "# 단위 = cm\n",
    "zero_to_head_len = 44\n",
    "crystal_x_len = 3\n",
    "crystal_y_len = 0.2\n",
    "crystal_z_len = 0.2\n",
    "\n"
   ]
  },
  {
   "cell_type": "code",
   "execution_count": 153,
   "metadata": {},
   "outputs": [
    {
     "name": "stdout",
     "output_type": "stream",
     "text": [
      "1개의 파일을 변환합니다.\n",
      "1번째 파일\n",
      "=================\n",
      "좌표 가져오기 완료!\n",
      "=================\n",
      "0번 디텍터 크리스탈 중심값: [['44.000', '0.000', '-0.800'], ['44.000', '0.000', '-0.600'], ['44.000', '0.000', '-0.400'], ['44.000', '0.000', '-0.200'], ['44.000', '0.000', '0.000'], ['44.000', '0.000', '0.200'], ['44.000', '0.000', '0.400'], ['44.000', '0.000', '0.600'], ['44.000', '0.000', '0.800']]\n"
     ]
    },
    {
     "name": "stderr",
     "output_type": "stream",
     "text": [
      "100%|████████████████████████████████████████████████████████████████████████████| 11890/11890 [09:09<00:00, 21.23it/s]\n"
     ]
    },
    {
     "name": "stdout",
     "output_type": "stream",
     "text": [
      "sort_dat_len: 23776\n",
      "detector_num_len: 23776\n",
      "===== 0 =====\n",
      "42.5 <=x< 45.5\n",
      "-0.1 <=y< 0.1\n",
      "-0.9 <=z< -0.7000000000000001\n",
      "============\n",
      "===== 1 =====\n",
      "42.5 <=x< 45.5\n",
      "-0.1 <=y< 0.1\n",
      "-0.7 <=z< -0.5\n",
      "============\n",
      "===== 2 =====\n",
      "42.5 <=x< 45.5\n",
      "-0.1 <=y< 0.1\n",
      "-0.5 <=z< -0.30000000000000004\n",
      "============\n",
      "===== 3 =====\n",
      "42.5 <=x< 45.5\n",
      "-0.1 <=y< 0.1\n",
      "-0.30000000000000004 <=z< -0.1\n",
      "============\n",
      "===== 4 =====\n",
      "42.5 <=x< 45.5\n",
      "-0.1 <=y< 0.1\n",
      "-0.1 <=z< 0.1\n",
      "============\n",
      "===== 5 =====\n",
      "42.5 <=x< 45.5\n",
      "-0.1 <=y< 0.1\n",
      "0.1 <=z< 0.30000000000000004\n",
      "============\n",
      "===== 6 =====\n",
      "42.5 <=x< 45.5\n",
      "-0.1 <=y< 0.1\n",
      "0.30000000000000004 <=z< 0.5\n",
      "============\n",
      "===== 7 =====\n",
      "42.5 <=x< 45.5\n",
      "-0.1 <=y< 0.1\n",
      "0.5 <=z< 0.7\n",
      "============\n",
      "===== 8 =====\n",
      "42.5 <=x< 45.5\n",
      "-0.1 <=y< 0.1\n",
      "0.7000000000000001 <=z< 0.9\n",
      "============\n",
      "전체 데이터: 23776\n",
      "범위 내의 값: 23545\n",
      "범위 밖의 값: 231\n",
      "=================\n",
      "preprocessing complete!\n"
     ]
    }
   ],
   "source": [
    "final_data_1 =start_preprocessing(detector_head_num, ctystal_x_num, ctystal_y_num, ctystal_z_num, zero_to_head_len, crystal_x_len, crystal_y_len, crystal_z_len)\n",
    "\n",
    "\n",
    "        \n",
    "    "
   ]
  },
  {
   "cell_type": "markdown",
   "metadata": {},
   "source": [
    "## Phi_angle(angle_flag=True) : degree로 sinogram 표현"
   ]
  },
  {
   "cell_type": "code",
   "execution_count": 187,
   "metadata": {},
   "outputs": [
    {
     "data": {
      "image/png": "[encoded data removed]",
      "text/plain": [
       "<Figure size 864x720 with 1 Axes>"
      ]
     },
     "metadata": {
      "needs_background": "light"
     },
     "output_type": "display_data"
    }
   ],
   "source": [
    "sino1 = drawSinogram()"
   ]
  },
  {
   "cell_type": "code",
   "execution_count": 19,
   "metadata": {
    "scrolled": true
   },
   "outputs": [
    {
     "data": {
      "image/png": "[encoded data removed]",
      "text/plain": [
       "<Figure size 864x720 with 1 Axes>"
      ]
     },
     "metadata": {
      "needs_background": "light"
     },
     "output_type": "display_data"
    }
   ],
   "source": [
    "sino5 = drawSinogram(5)"
   ]
  },
  {
   "cell_type": "code",
   "execution_count": 20,
   "metadata": {},
   "outputs": [
    {
     "data": {
      "text/plain": [
       "(0.0, 291.0)"
      ]
     },
     "execution_count": 20,
     "metadata": {},
     "output_type": "execute_result"
    }
   ],
   "source": [
    "sino1.min(), sino1.max()"
   ]
  },
  {
   "cell_type": "code",
   "execution_count": 21,
   "metadata": {},
   "outputs": [
    {
     "data": {
      "text/plain": [
       "(0.0, 291.0)"
      ]
     },
     "execution_count": 21,
     "metadata": {},
     "output_type": "execute_result"
    }
   ],
   "source": [
    "sino3.min(), sino3.max()"
   ]
  },
  {
   "cell_type": "code",
   "execution_count": 22,
   "metadata": {},
   "outputs": [
    {
     "data": {
      "text/plain": [
       "(0.0, 531.0)"
      ]
     },
     "execution_count": 22,
     "metadata": {},
     "output_type": "execute_result"
    }
   ],
   "source": [
    "sino5.min(), sino5.max()"
   ]
  },
  {
   "cell_type": "code",
   "execution_count": 23,
   "metadata": {
    "scrolled": false
   },
   "outputs": [
    {
     "data": {
      "image/png": "[encoded data removed]",
      "text/plain": [
       "<Figure size 1152x1152 with 3 Axes>"
      ]
     },
     "metadata": {
      "needs_background": "light"
     },
     "output_type": "display_data"
    }
   ],
   "source": [
    "plt.figure(figsize=(16, 16))\n",
    "\n",
    "plt.subplot(1, 3, 1)\n",
    "plt.imshow(sino1 / sino1.max() , cmap=plt.cm.Greys_r)\n",
    "\n",
    "plt.subplot(1, 3, 2)\n",
    "plt.imshow(sino3 / sino3.max(), cmap=plt.cm.Greys_r)\n",
    "\n",
    "plt.subplot(1, 3, 3)\n",
    "plt.imshow(sino5 / sino5.max(), cmap=plt.cm.Greys_r)\n",
    "\n",
    "plt.show()"
   ]
  },
  {
   "cell_type": "code",
   "execution_count": 24,
   "metadata": {},
   "outputs": [
    {
     "data": {
      "text/plain": [
       "1.0"
      ]
     },
     "execution_count": 24,
     "metadata": {},
     "output_type": "execute_result"
    }
   ],
   "source": [
    "np.sum(sino1[-3:, 25])"
   ]
  },
  {
   "cell_type": "code",
   "execution_count": 25,
   "metadata": {},
   "outputs": [
    {
     "data": {
      "text/plain": [
       "214.0"
      ]
     },
     "execution_count": 25,
     "metadata": {},
     "output_type": "execute_result"
    }
   ],
   "source": [
    "sino3[-1, 25]"
   ]
  },
  {
   "cell_type": "code",
   "execution_count": 26,
   "metadata": {
    "scrolled": true
   },
   "outputs": [
    {
     "data": {
      "text/plain": [
       "array([[1.],\n",
       "       [0.],\n",
       "       [0.],\n",
       "       [1.],\n",
       "       [0.],\n",
       "       [0.],\n",
       "       [0.],\n",
       "       [0.],\n",
       "       [0.],\n",
       "       [0.],\n",
       "       [0.],\n",
       "       [0.],\n",
       "       [0.],\n",
       "       [0.],\n",
       "       [0.],\n",
       "       [0.],\n",
       "       [0.],\n",
       "       [2.],\n",
       "       [0.],\n",
       "       [0.],\n",
       "       [0.],\n",
       "       [0.],\n",
       "       [0.],\n",
       "       [1.],\n",
       "       [0.],\n",
       "       [0.],\n",
       "       [0.],\n",
       "       [0.],\n",
       "       [0.],\n",
       "       [0.],\n",
       "       [0.],\n",
       "       [0.],\n",
       "       [0.],\n",
       "       [0.],\n",
       "       [0.],\n",
       "       [0.],\n",
       "       [0.],\n",
       "       [0.],\n",
       "       [0.],\n",
       "       [0.],\n",
       "       [0.],\n",
       "       [0.],\n",
       "       [0.],\n",
       "       [1.],\n",
       "       [0.]])"
      ]
     },
     "execution_count": 26,
     "metadata": {},
     "output_type": "execute_result"
    }
   ],
   "source": [
    "sino1[135:, 25:26]"
   ]
  },
  {
   "cell_type": "code",
   "execution_count": 27,
   "metadata": {
    "collapsed": true
   },
   "outputs": [
    {
     "data": {
      "text/plain": [
       "<matplotlib.image.AxesImage at 0x1322058b7b8>"
      ]
     },
     "execution_count": 27,
     "metadata": {},
     "output_type": "execute_result"
    },
    {
     "data": {
      "image/png": "[encoded data removed]",
      "text/plain": [
       "<Figure size 432x288 with 1 Axes>"
      ]
     },
     "metadata": {
      "needs_background": "light"
     },
     "output_type": "display_data"
    }
   ],
   "source": [
    "plt.imshow(sino1[sino1.shape[0] // 2 - 10:sino1.shape[0] // 2 + 10] / sino1.max(), cmap=plt.cm.Greys_r)"
   ]
  },
  {
   "cell_type": "code",
   "execution_count": 28,
   "metadata": {},
   "outputs": [
    {
     "data": {
      "text/plain": [
       "<matplotlib.image.AxesImage at 0x13220521ef0>"
      ]
     },
     "execution_count": 28,
     "metadata": {},
     "output_type": "execute_result"
    },
    {
     "data": {
      "image/png": "[encoded data removed]",
      "text/plain": [
       "<Figure size 432x288 with 1 Axes>"
      ]
     },
     "metadata": {
      "needs_background": "light"
     },
     "output_type": "display_data"
    }
   ],
   "source": [
    "plt.imshow(sino3[sino3.shape[0] // 2 - 3:sino3.shape[0] // 2 + 3] / sino3.max(), cmap=plt.cm.Greys_r)"
   ]
  },
  {
   "cell_type": "code",
   "execution_count": 29,
   "metadata": {},
   "outputs": [
    {
     "data": {
      "text/plain": [
       "<matplotlib.image.AxesImage at 0x132202224e0>"
      ]
     },
     "execution_count": 29,
     "metadata": {},
     "output_type": "execute_result"
    },
    {
     "data": {
      "image/png": "[encoded data removed]",
      "text/plain": [
       "<Figure size 432x288 with 1 Axes>"
      ]
     },
     "metadata": {
      "needs_background": "light"
     },
     "output_type": "display_data"
    }
   ],
   "source": [
    "plt.imshow(sino5[sino5.shape[0] // 2 - 2:sino5.shape[0] // 2 + 2] / sino5.max(), cmap=plt.cm.Greys_r)"
   ]
  },
  {
   "cell_type": "code",
   "execution_count": 30,
   "metadata": {},
   "outputs": [
    {
     "data": {
      "text/plain": [
       "array([[ 0., 10., 11., ...,  0.,  0.,  0.],\n",
       "       [ 0., 38.,  7., ...,  0.,  0.,  0.],\n",
       "       [ 0., 63., 25., ...,  1.,  0.,  0.],\n",
       "       ...,\n",
       "       [ 0.,  0.,  0., ..., 30.,  0.,  0.],\n",
       "       [ 0.,  1.,  0., ..., 12.,  0.,  0.],\n",
       "       [ 0., 10., 18., ...,  9.,  0.,  0.]])"
      ]
     },
     "execution_count": 30,
     "metadata": {},
     "output_type": "execute_result"
    },
    {
     "data": {
      "image/png": "[encoded data removed]",
      "text/plain": [
       "<Figure size 864x720 with 1 Axes>"
      ]
     },
     "metadata": {
      "needs_background": "light"
     },
     "output_type": "display_data"
    }
   ],
   "source": [
    "drawSinogram(7)"
   ]
  },
  {
   "cell_type": "code",
   "execution_count": 31,
   "metadata": {},
   "outputs": [
    {
     "data": {
      "text/plain": [
       "<matplotlib.image.AxesImage at 0x132204e6ba8>"
      ]
     },
     "execution_count": 31,
     "metadata": {},
     "output_type": "execute_result"
    },
    {
     "data": {
      "image/png": "[encoded data removed]",
      "text/plain": [
       "<Figure size 432x288 with 1 Axes>"
      ]
     },
     "metadata": {
      "needs_background": "light"
     },
     "output_type": "display_data"
    }
   ],
   "source": [
    "plt.imshow(np.expand_dims(np.sum(sino1[0:3], axis=0), axis=0), cmap=plt.cm.Greys_r)"
   ]
  },
  {
   "cell_type": "code",
   "execution_count": 32,
   "metadata": {},
   "outputs": [
    {
     "data": {
      "text/plain": [
       "<matplotlib.image.AxesImage at 0x1321fde0390>"
      ]
     },
     "execution_count": 32,
     "metadata": {},
     "output_type": "execute_result"
    },
    {
     "data": {
      "image/png": "[encoded data removed]",
      "text/plain": [
       "<Figure size 432x288 with 1 Axes>"
      ]
     },
     "metadata": {
      "needs_background": "light"
     },
     "output_type": "display_data"
    }
   ],
   "source": [
    "plt.imshow(np.expand_dims(np.sum(sino1[180:183], axis=0), axis=0), cmap=plt.cm.Greys_r)"
   ]
  },
  {
   "cell_type": "code",
   "execution_count": 85,
   "metadata": {},
   "outputs": [
    {
     "data": {
      "text/plain": [
       "(2, 91)"
      ]
     },
     "execution_count": 85,
     "metadata": {},
     "output_type": "execute_result"
    }
   ],
   "source": [
    "while True:\n",
    "    i = 0 \n",
    "    np.concatenate((np.expand_dims(np.sum(sino1[i:i+1], axis=0), axis=0),np.expand_dims(np.sum(sino1[i+1:i+2], axis=0), axis=0)),axis = 0).shape"
   ]
  },
  {
   "cell_type": "code",
   "execution_count": 107,
   "metadata": {},
   "outputs": [
    {
     "data": {
      "text/plain": [
       "array([  0.,  10.,  18.,  23.,  16.,  11.,  13.,  23.,   6.,  17.,  17.,\n",
       "         7.,   7.,  13.,   8.,   8.,  12.,  16.,  10.,  13.,   7.,  12.,\n",
       "         6.,   9.,  11., 707.,  20.,  12.,   8.,   7.,   5.,   8.,   0.,\n",
       "         8.,   7.,   5.,   1.,   8.,   2.,   8.,   1.,   4.,   2.,   6.,\n",
       "         3.,   0.,   2.,   2.,   4.,   2.,   2.,   1.,   0.,   2.,   6.,\n",
       "         4.,   2.,   1.,   1.,   4.,   0.,   6.,   0.,   4.,   0.,   3.,\n",
       "         0.,   2.,   0.,   1.,   0.,   1.,   0.,   3.,   0.,   4.,   7.,\n",
       "         0.,   0.,   4.,   0.,   0.,   0.,   6.,   0.,   0.,   0.,   0.,\n",
       "         0.,   0.,   0.])"
      ]
     },
     "execution_count": 107,
     "metadata": {},
     "output_type": "execute_result"
    }
   ],
   "source": [
    "np.sum(sino1[0:7], axis=0)"
   ]
  },
  {
   "cell_type": "code",
   "execution_count": 112,
   "metadata": {},
   "outputs": [
    {
     "data": {
      "image/png": "[encoded data removed]",
      "text/plain": [
       "<Figure size 864x720 with 1 Axes>"
      ]
     },
     "metadata": {
      "needs_background": "light"
     },
     "output_type": "display_data"
    }
   ],
   "source": [
    "sino1 = drawSinogram(1)"
   ]
  },
  {
   "cell_type": "code",
   "execution_count": 191,
   "metadata": {},
   "outputs": [
    {
     "data": {
      "text/plain": [
       "<matplotlib.image.AxesImage at 0x1321f9a1390>"
      ]
     },
     "execution_count": 191,
     "metadata": {},
     "output_type": "execute_result"
    },
    {
     "data": {
      "image/png": "[encoded data removed]",
      "text/plain": [
       "<Figure size 432x288 with 1 Axes>"
      ]
     },
     "metadata": {
      "needs_background": "light"
     },
     "output_type": "display_data"
    }
   ],
   "source": [
    "row_step = 3\n",
    "column_step = 5\n",
    "r =[]\n",
    "c = []\n",
    "for row in range(0, 180, row_step):\n",
    "    # TODO: concat\n",
    "    \n",
    "    sinogram_row_temp = np.sum(sino1[row:row+row_step], axis=0)\n",
    "    r.append(sinogram_row_temp)\n",
    "\n",
    "d= np.array(r)\n",
    "plt.imshow(d, cmap=plt.cm.Greys_r)"
   ]
  },
  {
   "cell_type": "code",
   "execution_count": null,
   "metadata": {},
   "outputs": [],
   "source": [
    "allArrays = np.array([])\n",
    "for x in range(0, 1000):\n",
    "    myArray = myFunction(x)\n",
    "    allArrays = np.concatenate([allArrays, myArray])"
   ]
  },
  {
   "cell_type": "code",
   "execution_count": 105,
   "metadata": {},
   "outputs": [
    {
     "data": {
      "text/plain": [
       "(180, 91)"
      ]
     },
     "execution_count": 105,
     "metadata": {},
     "output_type": "execute_result"
    }
   ],
   "source": [
    "sino1.shape"
   ]
  },
  {
   "cell_type": "code",
   "execution_count": 189,
   "metadata": {},
   "outputs": [
    {
     "ename": "SyntaxError",
     "evalue": "invalid syntax (<ipython-input-189-3b83deb06b3d>, line 7)",
     "output_type": "error",
     "traceback": [
      "\u001b[1;36m  File \u001b[1;32m\"<ipython-input-189-3b83deb06b3d>\"\u001b[1;36m, line \u001b[1;32m7\u001b[0m\n\u001b[1;33m    np.concatenate((np.expand_dims(np.sum(sino1[row:row+row_step], axis=0), axis=0),(np.expand_dims(np.sum(sino1[row+row_step:row+row_step], axis=0), axis=0)),axis = 0)\u001b[0m\n\u001b[1;37m                                                                                                                                                                    ^\u001b[0m\n\u001b[1;31mSyntaxError\u001b[0m\u001b[1;31m:\u001b[0m invalid syntax\n"
     ]
    }
   ],
   "source": [
    "row_step = 7\n",
    "allArrays = np.array([])\n",
    "for row in range(0, 180, row_step):\n",
    "    # TODO: concat\n",
    "    \n",
    "    sinogram_row_temp = np.expand_dims(np.sum(sino1[row:row+row_step], axis=0), axis=0)\n",
    "    np.concatenate((np.expand_dims(np.sum(sino1[row:row+row_step], axis=0), axis=0),(np.expand_dims(np.sum(sino1[row+row_step:row+row_step], axis=0), axis=0)),axis = 0)\n",
    "    print(sinogram_row_temp.shape)"
   ]
  },
  {
   "cell_type": "code",
   "execution_count": 71,
   "metadata": {},
   "outputs": [
    {
     "data": {
      "text/plain": [
       "<matplotlib.image.AxesImage at 0x1321eb524a8>"
      ]
     },
     "execution_count": 71,
     "metadata": {},
     "output_type": "execute_result"
    },
    {
     "data": {
      "image/png": "[encoded data removed]",
      "text/plain": [
       "<Figure size 432x288 with 1 Axes>"
      ]
     },
     "metadata": {
      "needs_background": "light"
     },
     "output_type": "display_data"
    }
   ],
   "source": [
    "row_step = 7\n",
    "for row in range(0, 180):\n",
    "    # TODO: concat\n",
    "    \n",
    "    sinogram_row_temp = np.expand_dims(np.sum(sino1[row:row+1], axis=0), axis=0)\n",
    "\n",
    "\n",
    "\n",
    "plt.imshow(sinogram_row_temp)"
   ]
  },
  {
   "cell_type": "code",
   "execution_count": 73,
   "metadata": {},
   "outputs": [
    {
     "data": {
      "text/plain": [
       "9.0"
      ]
     },
     "execution_count": 73,
     "metadata": {},
     "output_type": "execute_result"
    }
   ],
   "source": [
    "sinogram_row_temp.max()\n"
   ]
  },
  {
   "cell_type": "code",
   "execution_count": 66,
   "metadata": {},
   "outputs": [
    {
     "data": {
      "text/plain": [
       "(1, 91)"
      ]
     },
     "execution_count": 66,
     "metadata": {},
     "output_type": "execute_result"
    }
   ],
   "source": [
    "sinogram_row_temp.shape"
   ]
  },
  {
   "cell_type": "code",
   "execution_count": null,
   "metadata": {},
   "outputs": [],
   "source": [
    "allArrays = np.array([])\n",
    "for x in range(0, 1000):\n",
    "    myArray = myFunction(x)\n",
    "    allArrays = np.concatenate([allArrays, myArray])"
   ]
  },
  {
   "cell_type": "code",
   "execution_count": 49,
   "metadata": {},
   "outputs": [
    {
     "data": {
      "text/plain": [
       "(1, 91)"
      ]
     },
     "execution_count": 49,
     "metadata": {},
     "output_type": "execute_result"
    }
   ],
   "source": [
    "column_step = 3\n",
    "for column in range (0, 90, column_step):\n",
    "    sinogram_column_temp = np.expand_dims(np.sum(sino1[column : column+column_step],axis = 0),axis = 0)\n",
    "sinogram_column_temp.shape"
   ]
  },
  {
   "cell_type": "code",
   "execution_count": null,
   "metadata": {},
   "outputs": [],
   "source": [
    "180 / 3"
   ]
  },
  {
   "cell_type": "code",
   "execution_count": null,
   "metadata": {},
   "outputs": [],
   "source": [
    "sino1[179:181, :]"
   ]
  },
  {
   "cell_type": "code",
   "execution_count": 55,
   "metadata": {},
   "outputs": [
    {
     "ename": "NameError",
     "evalue": "name 'myFunction' is not defined",
     "output_type": "error",
     "traceback": [
      "\u001b[1;31m---------------------------------------------------------------------------\u001b[0m",
      "\u001b[1;31mNameError\u001b[0m                                 Traceback (most recent call last)",
      "\u001b[1;32m<ipython-input-55-f5716d60e7bc>\u001b[0m in \u001b[0;36m<module>\u001b[1;34m\u001b[0m\n\u001b[0;32m      1\u001b[0m \u001b[0mallArrays\u001b[0m \u001b[1;33m=\u001b[0m \u001b[0mnp\u001b[0m\u001b[1;33m.\u001b[0m\u001b[0marray\u001b[0m\u001b[1;33m(\u001b[0m\u001b[1;33m[\u001b[0m\u001b[1;33m]\u001b[0m\u001b[1;33m)\u001b[0m\u001b[1;33m\u001b[0m\u001b[1;33m\u001b[0m\u001b[0m\n\u001b[0;32m      2\u001b[0m \u001b[1;32mfor\u001b[0m \u001b[0mx\u001b[0m \u001b[1;32min\u001b[0m \u001b[0mrange\u001b[0m\u001b[1;33m(\u001b[0m\u001b[1;36m0\u001b[0m\u001b[1;33m,\u001b[0m \u001b[1;36m1000\u001b[0m\u001b[1;33m)\u001b[0m\u001b[1;33m:\u001b[0m\u001b[1;33m\u001b[0m\u001b[1;33m\u001b[0m\u001b[0m\n\u001b[1;32m----> 3\u001b[1;33m     \u001b[0mmyArray\u001b[0m \u001b[1;33m=\u001b[0m \u001b[0mmyFunction\u001b[0m\u001b[1;33m(\u001b[0m\u001b[0mx\u001b[0m\u001b[1;33m)\u001b[0m\u001b[1;33m\u001b[0m\u001b[1;33m\u001b[0m\u001b[0m\n\u001b[0m\u001b[0;32m      4\u001b[0m     \u001b[0mallArrays\u001b[0m \u001b[1;33m=\u001b[0m \u001b[0mnp\u001b[0m\u001b[1;33m.\u001b[0m\u001b[0mconcatenate\u001b[0m\u001b[1;33m(\u001b[0m\u001b[1;33m[\u001b[0m\u001b[0mallArrays\u001b[0m\u001b[1;33m,\u001b[0m \u001b[0mmyArray\u001b[0m\u001b[1;33m]\u001b[0m\u001b[1;33m)\u001b[0m\u001b[1;33m\u001b[0m\u001b[1;33m\u001b[0m\u001b[0m\n",
      "\u001b[1;31mNameError\u001b[0m: name 'myFunction' is not defined"
     ]
    }
   ],
   "source": [
    "allArrays = np.array([])\n",
    "for x in range(0, 1000):\n",
    "    myArray = myFunction(x)\n",
    "    allArrays = np.concatenate([allArrays, myArray])"
   ]
  },
  {
   "cell_type": "code",
   "execution_count": 88,
   "metadata": {},
   "outputs": [
    {
     "data": {
      "text/plain": [
       "[1, 2, 3, [1, 2, 3]]"
      ]
     },
     "execution_count": 88,
     "metadata": {},
     "output_type": "execute_result"
    }
   ],
   "source": [
    "a= [1,2,3]\n",
    "b= [1,2,3]\n",
    "c= []\n",
    "a.append(b)\n",
    "a"
   ]
  },
  {
   "cell_type": "code",
   "execution_count": 221,
   "metadata": {},
   "outputs": [
    {
     "data": {
      "image/png": "[encoded data removed]",
      "text/plain": [
       "<Figure size 864x720 with 1 Axes>"
      ]
     },
     "metadata": {
      "needs_background": "light"
     },
     "output_type": "display_data"
    }
   ],
   "source": [
    "sino1 = drawSinogram(1)"
   ]
  },
  {
   "cell_type": "code",
   "execution_count": 225,
   "metadata": {},
   "outputs": [
    {
     "data": {
      "text/plain": [
       "array([ 0.,  0.,  0.,  0.,  0.,  0.,  0.,  5.,  0.,  0.,  2.,  0.,  0.,\n",
       "        0.,  0.,  0.,  0.,  0.,  0.,  0.,  0.,  0.,  0.,  0.,  0.,  1.,\n",
       "        0.,  2.,  0.,  0.,  0.,  0.,  0.,  0.,  0.,  6., 10.,  4.,  3.,\n",
       "        1.,  0.,  0.,  0.,  0.,  0.,  0.,  1.,  1.,  0.,  0.,  2.,  2.,\n",
       "        0.,  2., 88.,  1.,  1.,  0.,  0.,  0.,  1.,  0.,  1.,  0.,  0.,\n",
       "        0.,  0.,  2.,  2.,  7., 16.,  2.,  2.,  0.,  1.,  0.,  1.,  1.,\n",
       "        2., 13.,  0.,  0., 12.,  0.,  0.,  0.,  0.,  0.,  0.,  0.,  0.])"
      ]
     },
     "execution_count": 225,
     "metadata": {},
     "output_type": "execute_result"
    }
   ],
   "source": [
    "np.sum(sino1[3:10][3:5], axis=0)"
   ]
  },
  {
   "cell_type": "code",
   "execution_count": 305,
   "metadata": {},
   "outputs": [
    {
     "ename": "TypeError",
     "evalue": "not enough arguments for format string",
     "output_type": "error",
     "traceback": [
      "\u001b[1;31m---------------------------------------------------------------------------\u001b[0m",
      "\u001b[1;31mTypeError\u001b[0m                                 Traceback (most recent call last)",
      "\u001b[1;32m<ipython-input-305-9bb88287fc02>\u001b[0m in \u001b[0;36m<module>\u001b[1;34m\u001b[0m\n\u001b[0;32m      2\u001b[0m \u001b[0mb\u001b[0m\u001b[1;33m=\u001b[0m \u001b[1;36m2\u001b[0m\u001b[1;33m\u001b[0m\u001b[1;33m\u001b[0m\u001b[0m\n\u001b[0;32m      3\u001b[0m \u001b[0mc\u001b[0m\u001b[1;33m=\u001b[0m\u001b[1;36m3\u001b[0m\u001b[1;33m\u001b[0m\u001b[1;33m\u001b[0m\u001b[0m\n\u001b[1;32m----> 4\u001b[1;33m \u001b[0mprint\u001b[0m\u001b[1;33m(\u001b[0m\u001b[1;34m\"%d 부터 %d 까지의 intensity max값 : %d\"\u001b[0m\u001b[1;33m%\u001b[0m\u001b[0ma\u001b[0m \u001b[1;33m,\u001b[0m\u001b[0mb\u001b[0m \u001b[1;33m,\u001b[0m\u001b[0mc\u001b[0m\u001b[1;33m)\u001b[0m\u001b[1;33m\u001b[0m\u001b[1;33m\u001b[0m\u001b[0m\n\u001b[0m",
      "\u001b[1;31mTypeError\u001b[0m: not enough arguments for format string"
     ]
    }
   ],
   "source": [
    "a=1\n",
    "b= 2\n",
    "c=3\n",
    "print(\"%d 부터 %d 까지의 intensity max값 : %d\"%a ,b ,c)"
   ]
  },
  {
   "cell_type": "code",
   "execution_count": null,
   "metadata": {},
   "outputs": [],
   "source": []
  }
 ],
 "metadata": {
  "kernelspec": {
   "display_name": "Python 3",
   "language": "python",
   "name": "python3"
  },
  "language_info": {
   "codemirror_mode": {
    "name": "ipython",
    "version": 3
   },
   "file_extension": ".py",
   "mimetype": "text/x-python",
   "name": "python",
   "nbconvert_exporter": "python",
   "pygments_lexer": "ipython3",
   "version": "3.5.2"
  }
 },
 "nbformat": 4,
 "nbformat_minor": 2
}
